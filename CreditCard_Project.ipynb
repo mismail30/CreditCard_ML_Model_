{
 "cells": [
  {
   "cell_type": "code",
   "execution_count": 1,
   "metadata": {},
   "outputs": [],
   "source": [
    "import pandas as pd\n",
    "import matplotlib.pyplot as plt\n",
    "import seaborn as sns"
   ]
  },
  {
   "cell_type": "markdown",
   "metadata": {},
   "source": [
    "# Read Data"
   ]
  },
  {
   "cell_type": "code",
   "execution_count": 2,
   "metadata": {},
   "outputs": [],
   "source": [
    "df=pd.read_csv('UCI_Credit_Card.csv')"
   ]
  },
  {
   "cell_type": "code",
   "execution_count": 3,
   "metadata": {
    "scrolled": true
   },
   "outputs": [
    {
     "data": {
      "text/html": [
       "<div>\n",
       "<style scoped>\n",
       "    .dataframe tbody tr th:only-of-type {\n",
       "        vertical-align: middle;\n",
       "    }\n",
       "\n",
       "    .dataframe tbody tr th {\n",
       "        vertical-align: top;\n",
       "    }\n",
       "\n",
       "    .dataframe thead th {\n",
       "        text-align: right;\n",
       "    }\n",
       "</style>\n",
       "<table border=\"1\" class=\"dataframe\">\n",
       "  <thead>\n",
       "    <tr style=\"text-align: right;\">\n",
       "      <th></th>\n",
       "      <th>ID</th>\n",
       "      <th>LIMIT_BAL</th>\n",
       "      <th>SEX</th>\n",
       "      <th>EDUCATION</th>\n",
       "      <th>MARRIAGE</th>\n",
       "      <th>AGE</th>\n",
       "      <th>PAY_0</th>\n",
       "      <th>PAY_2</th>\n",
       "      <th>PAY_3</th>\n",
       "      <th>PAY_4</th>\n",
       "      <th>...</th>\n",
       "      <th>BILL_AMT4</th>\n",
       "      <th>BILL_AMT5</th>\n",
       "      <th>BILL_AMT6</th>\n",
       "      <th>PAY_AMT1</th>\n",
       "      <th>PAY_AMT2</th>\n",
       "      <th>PAY_AMT3</th>\n",
       "      <th>PAY_AMT4</th>\n",
       "      <th>PAY_AMT5</th>\n",
       "      <th>PAY_AMT6</th>\n",
       "      <th>default.payment.next.month</th>\n",
       "    </tr>\n",
       "  </thead>\n",
       "  <tbody>\n",
       "    <tr>\n",
       "      <th>0</th>\n",
       "      <td>1</td>\n",
       "      <td>20000.0</td>\n",
       "      <td>2</td>\n",
       "      <td>2</td>\n",
       "      <td>1</td>\n",
       "      <td>24</td>\n",
       "      <td>2</td>\n",
       "      <td>2</td>\n",
       "      <td>-1</td>\n",
       "      <td>-1</td>\n",
       "      <td>...</td>\n",
       "      <td>0.0</td>\n",
       "      <td>0.0</td>\n",
       "      <td>0.0</td>\n",
       "      <td>0.0</td>\n",
       "      <td>689.0</td>\n",
       "      <td>0.0</td>\n",
       "      <td>0.0</td>\n",
       "      <td>0.0</td>\n",
       "      <td>0.0</td>\n",
       "      <td>1</td>\n",
       "    </tr>\n",
       "    <tr>\n",
       "      <th>1</th>\n",
       "      <td>2</td>\n",
       "      <td>120000.0</td>\n",
       "      <td>2</td>\n",
       "      <td>2</td>\n",
       "      <td>2</td>\n",
       "      <td>26</td>\n",
       "      <td>-1</td>\n",
       "      <td>2</td>\n",
       "      <td>0</td>\n",
       "      <td>0</td>\n",
       "      <td>...</td>\n",
       "      <td>3272.0</td>\n",
       "      <td>3455.0</td>\n",
       "      <td>3261.0</td>\n",
       "      <td>0.0</td>\n",
       "      <td>1000.0</td>\n",
       "      <td>1000.0</td>\n",
       "      <td>1000.0</td>\n",
       "      <td>0.0</td>\n",
       "      <td>2000.0</td>\n",
       "      <td>1</td>\n",
       "    </tr>\n",
       "    <tr>\n",
       "      <th>2</th>\n",
       "      <td>3</td>\n",
       "      <td>90000.0</td>\n",
       "      <td>2</td>\n",
       "      <td>2</td>\n",
       "      <td>2</td>\n",
       "      <td>34</td>\n",
       "      <td>0</td>\n",
       "      <td>0</td>\n",
       "      <td>0</td>\n",
       "      <td>0</td>\n",
       "      <td>...</td>\n",
       "      <td>14331.0</td>\n",
       "      <td>14948.0</td>\n",
       "      <td>15549.0</td>\n",
       "      <td>1518.0</td>\n",
       "      <td>1500.0</td>\n",
       "      <td>1000.0</td>\n",
       "      <td>1000.0</td>\n",
       "      <td>1000.0</td>\n",
       "      <td>5000.0</td>\n",
       "      <td>0</td>\n",
       "    </tr>\n",
       "    <tr>\n",
       "      <th>3</th>\n",
       "      <td>4</td>\n",
       "      <td>50000.0</td>\n",
       "      <td>2</td>\n",
       "      <td>2</td>\n",
       "      <td>1</td>\n",
       "      <td>37</td>\n",
       "      <td>0</td>\n",
       "      <td>0</td>\n",
       "      <td>0</td>\n",
       "      <td>0</td>\n",
       "      <td>...</td>\n",
       "      <td>28314.0</td>\n",
       "      <td>28959.0</td>\n",
       "      <td>29547.0</td>\n",
       "      <td>2000.0</td>\n",
       "      <td>2019.0</td>\n",
       "      <td>1200.0</td>\n",
       "      <td>1100.0</td>\n",
       "      <td>1069.0</td>\n",
       "      <td>1000.0</td>\n",
       "      <td>0</td>\n",
       "    </tr>\n",
       "    <tr>\n",
       "      <th>4</th>\n",
       "      <td>5</td>\n",
       "      <td>50000.0</td>\n",
       "      <td>1</td>\n",
       "      <td>2</td>\n",
       "      <td>1</td>\n",
       "      <td>57</td>\n",
       "      <td>-1</td>\n",
       "      <td>0</td>\n",
       "      <td>-1</td>\n",
       "      <td>0</td>\n",
       "      <td>...</td>\n",
       "      <td>20940.0</td>\n",
       "      <td>19146.0</td>\n",
       "      <td>19131.0</td>\n",
       "      <td>2000.0</td>\n",
       "      <td>36681.0</td>\n",
       "      <td>10000.0</td>\n",
       "      <td>9000.0</td>\n",
       "      <td>689.0</td>\n",
       "      <td>679.0</td>\n",
       "      <td>0</td>\n",
       "    </tr>\n",
       "  </tbody>\n",
       "</table>\n",
       "<p>5 rows × 25 columns</p>\n",
       "</div>"
      ],
      "text/plain": [
       "   ID  LIMIT_BAL  SEX  EDUCATION  MARRIAGE  AGE  PAY_0  PAY_2  PAY_3  PAY_4  \\\n",
       "0   1    20000.0    2          2         1   24      2      2     -1     -1   \n",
       "1   2   120000.0    2          2         2   26     -1      2      0      0   \n",
       "2   3    90000.0    2          2         2   34      0      0      0      0   \n",
       "3   4    50000.0    2          2         1   37      0      0      0      0   \n",
       "4   5    50000.0    1          2         1   57     -1      0     -1      0   \n",
       "\n",
       "   ...  BILL_AMT4  BILL_AMT5  BILL_AMT6  PAY_AMT1  PAY_AMT2  PAY_AMT3  \\\n",
       "0  ...        0.0        0.0        0.0       0.0     689.0       0.0   \n",
       "1  ...     3272.0     3455.0     3261.0       0.0    1000.0    1000.0   \n",
       "2  ...    14331.0    14948.0    15549.0    1518.0    1500.0    1000.0   \n",
       "3  ...    28314.0    28959.0    29547.0    2000.0    2019.0    1200.0   \n",
       "4  ...    20940.0    19146.0    19131.0    2000.0   36681.0   10000.0   \n",
       "\n",
       "   PAY_AMT4  PAY_AMT5  PAY_AMT6  default.payment.next.month  \n",
       "0       0.0       0.0       0.0                           1  \n",
       "1    1000.0       0.0    2000.0                           1  \n",
       "2    1000.0    1000.0    5000.0                           0  \n",
       "3    1100.0    1069.0    1000.0                           0  \n",
       "4    9000.0     689.0     679.0                           0  \n",
       "\n",
       "[5 rows x 25 columns]"
      ]
     },
     "execution_count": 3,
     "metadata": {},
     "output_type": "execute_result"
    }
   ],
   "source": [
    "df.head()"
   ]
  },
  {
   "cell_type": "code",
   "execution_count": 4,
   "metadata": {},
   "outputs": [
    {
     "data": {
      "text/html": [
       "<div>\n",
       "<style scoped>\n",
       "    .dataframe tbody tr th:only-of-type {\n",
       "        vertical-align: middle;\n",
       "    }\n",
       "\n",
       "    .dataframe tbody tr th {\n",
       "        vertical-align: top;\n",
       "    }\n",
       "\n",
       "    .dataframe thead th {\n",
       "        text-align: right;\n",
       "    }\n",
       "</style>\n",
       "<table border=\"1\" class=\"dataframe\">\n",
       "  <thead>\n",
       "    <tr style=\"text-align: right;\">\n",
       "      <th></th>\n",
       "      <th>count</th>\n",
       "      <th>mean</th>\n",
       "      <th>std</th>\n",
       "      <th>min</th>\n",
       "      <th>25%</th>\n",
       "      <th>50%</th>\n",
       "      <th>75%</th>\n",
       "      <th>max</th>\n",
       "    </tr>\n",
       "  </thead>\n",
       "  <tbody>\n",
       "    <tr>\n",
       "      <th>ID</th>\n",
       "      <td>30000.0</td>\n",
       "      <td>15000.500000</td>\n",
       "      <td>8660.398374</td>\n",
       "      <td>1.0</td>\n",
       "      <td>7500.75</td>\n",
       "      <td>15000.5</td>\n",
       "      <td>22500.25</td>\n",
       "      <td>30000.0</td>\n",
       "    </tr>\n",
       "    <tr>\n",
       "      <th>LIMIT_BAL</th>\n",
       "      <td>30000.0</td>\n",
       "      <td>167484.322667</td>\n",
       "      <td>129747.661567</td>\n",
       "      <td>10000.0</td>\n",
       "      <td>50000.00</td>\n",
       "      <td>140000.0</td>\n",
       "      <td>240000.00</td>\n",
       "      <td>1000000.0</td>\n",
       "    </tr>\n",
       "    <tr>\n",
       "      <th>SEX</th>\n",
       "      <td>30000.0</td>\n",
       "      <td>1.603733</td>\n",
       "      <td>0.489129</td>\n",
       "      <td>1.0</td>\n",
       "      <td>1.00</td>\n",
       "      <td>2.0</td>\n",
       "      <td>2.00</td>\n",
       "      <td>2.0</td>\n",
       "    </tr>\n",
       "    <tr>\n",
       "      <th>EDUCATION</th>\n",
       "      <td>30000.0</td>\n",
       "      <td>1.853133</td>\n",
       "      <td>0.790349</td>\n",
       "      <td>0.0</td>\n",
       "      <td>1.00</td>\n",
       "      <td>2.0</td>\n",
       "      <td>2.00</td>\n",
       "      <td>6.0</td>\n",
       "    </tr>\n",
       "    <tr>\n",
       "      <th>MARRIAGE</th>\n",
       "      <td>30000.0</td>\n",
       "      <td>1.551867</td>\n",
       "      <td>0.521970</td>\n",
       "      <td>0.0</td>\n",
       "      <td>1.00</td>\n",
       "      <td>2.0</td>\n",
       "      <td>2.00</td>\n",
       "      <td>3.0</td>\n",
       "    </tr>\n",
       "    <tr>\n",
       "      <th>AGE</th>\n",
       "      <td>30000.0</td>\n",
       "      <td>35.485500</td>\n",
       "      <td>9.217904</td>\n",
       "      <td>21.0</td>\n",
       "      <td>28.00</td>\n",
       "      <td>34.0</td>\n",
       "      <td>41.00</td>\n",
       "      <td>79.0</td>\n",
       "    </tr>\n",
       "    <tr>\n",
       "      <th>PAY_0</th>\n",
       "      <td>30000.0</td>\n",
       "      <td>-0.016700</td>\n",
       "      <td>1.123802</td>\n",
       "      <td>-2.0</td>\n",
       "      <td>-1.00</td>\n",
       "      <td>0.0</td>\n",
       "      <td>0.00</td>\n",
       "      <td>8.0</td>\n",
       "    </tr>\n",
       "    <tr>\n",
       "      <th>PAY_2</th>\n",
       "      <td>30000.0</td>\n",
       "      <td>-0.133767</td>\n",
       "      <td>1.197186</td>\n",
       "      <td>-2.0</td>\n",
       "      <td>-1.00</td>\n",
       "      <td>0.0</td>\n",
       "      <td>0.00</td>\n",
       "      <td>8.0</td>\n",
       "    </tr>\n",
       "    <tr>\n",
       "      <th>PAY_3</th>\n",
       "      <td>30000.0</td>\n",
       "      <td>-0.166200</td>\n",
       "      <td>1.196868</td>\n",
       "      <td>-2.0</td>\n",
       "      <td>-1.00</td>\n",
       "      <td>0.0</td>\n",
       "      <td>0.00</td>\n",
       "      <td>8.0</td>\n",
       "    </tr>\n",
       "    <tr>\n",
       "      <th>PAY_4</th>\n",
       "      <td>30000.0</td>\n",
       "      <td>-0.220667</td>\n",
       "      <td>1.169139</td>\n",
       "      <td>-2.0</td>\n",
       "      <td>-1.00</td>\n",
       "      <td>0.0</td>\n",
       "      <td>0.00</td>\n",
       "      <td>8.0</td>\n",
       "    </tr>\n",
       "    <tr>\n",
       "      <th>PAY_5</th>\n",
       "      <td>30000.0</td>\n",
       "      <td>-0.266200</td>\n",
       "      <td>1.133187</td>\n",
       "      <td>-2.0</td>\n",
       "      <td>-1.00</td>\n",
       "      <td>0.0</td>\n",
       "      <td>0.00</td>\n",
       "      <td>8.0</td>\n",
       "    </tr>\n",
       "    <tr>\n",
       "      <th>PAY_6</th>\n",
       "      <td>30000.0</td>\n",
       "      <td>-0.291100</td>\n",
       "      <td>1.149988</td>\n",
       "      <td>-2.0</td>\n",
       "      <td>-1.00</td>\n",
       "      <td>0.0</td>\n",
       "      <td>0.00</td>\n",
       "      <td>8.0</td>\n",
       "    </tr>\n",
       "    <tr>\n",
       "      <th>BILL_AMT1</th>\n",
       "      <td>30000.0</td>\n",
       "      <td>51223.330900</td>\n",
       "      <td>73635.860576</td>\n",
       "      <td>-165580.0</td>\n",
       "      <td>3558.75</td>\n",
       "      <td>22381.5</td>\n",
       "      <td>67091.00</td>\n",
       "      <td>964511.0</td>\n",
       "    </tr>\n",
       "    <tr>\n",
       "      <th>BILL_AMT2</th>\n",
       "      <td>30000.0</td>\n",
       "      <td>49179.075167</td>\n",
       "      <td>71173.768783</td>\n",
       "      <td>-69777.0</td>\n",
       "      <td>2984.75</td>\n",
       "      <td>21200.0</td>\n",
       "      <td>64006.25</td>\n",
       "      <td>983931.0</td>\n",
       "    </tr>\n",
       "    <tr>\n",
       "      <th>BILL_AMT3</th>\n",
       "      <td>30000.0</td>\n",
       "      <td>47013.154800</td>\n",
       "      <td>69349.387427</td>\n",
       "      <td>-157264.0</td>\n",
       "      <td>2666.25</td>\n",
       "      <td>20088.5</td>\n",
       "      <td>60164.75</td>\n",
       "      <td>1664089.0</td>\n",
       "    </tr>\n",
       "    <tr>\n",
       "      <th>BILL_AMT4</th>\n",
       "      <td>30000.0</td>\n",
       "      <td>43262.948967</td>\n",
       "      <td>64332.856134</td>\n",
       "      <td>-170000.0</td>\n",
       "      <td>2326.75</td>\n",
       "      <td>19052.0</td>\n",
       "      <td>54506.00</td>\n",
       "      <td>891586.0</td>\n",
       "    </tr>\n",
       "    <tr>\n",
       "      <th>BILL_AMT5</th>\n",
       "      <td>30000.0</td>\n",
       "      <td>40311.400967</td>\n",
       "      <td>60797.155770</td>\n",
       "      <td>-81334.0</td>\n",
       "      <td>1763.00</td>\n",
       "      <td>18104.5</td>\n",
       "      <td>50190.50</td>\n",
       "      <td>927171.0</td>\n",
       "    </tr>\n",
       "    <tr>\n",
       "      <th>BILL_AMT6</th>\n",
       "      <td>30000.0</td>\n",
       "      <td>38871.760400</td>\n",
       "      <td>59554.107537</td>\n",
       "      <td>-339603.0</td>\n",
       "      <td>1256.00</td>\n",
       "      <td>17071.0</td>\n",
       "      <td>49198.25</td>\n",
       "      <td>961664.0</td>\n",
       "    </tr>\n",
       "    <tr>\n",
       "      <th>PAY_AMT1</th>\n",
       "      <td>30000.0</td>\n",
       "      <td>5663.580500</td>\n",
       "      <td>16563.280354</td>\n",
       "      <td>0.0</td>\n",
       "      <td>1000.00</td>\n",
       "      <td>2100.0</td>\n",
       "      <td>5006.00</td>\n",
       "      <td>873552.0</td>\n",
       "    </tr>\n",
       "    <tr>\n",
       "      <th>PAY_AMT2</th>\n",
       "      <td>30000.0</td>\n",
       "      <td>5921.163500</td>\n",
       "      <td>23040.870402</td>\n",
       "      <td>0.0</td>\n",
       "      <td>833.00</td>\n",
       "      <td>2009.0</td>\n",
       "      <td>5000.00</td>\n",
       "      <td>1684259.0</td>\n",
       "    </tr>\n",
       "    <tr>\n",
       "      <th>PAY_AMT3</th>\n",
       "      <td>30000.0</td>\n",
       "      <td>5225.681500</td>\n",
       "      <td>17606.961470</td>\n",
       "      <td>0.0</td>\n",
       "      <td>390.00</td>\n",
       "      <td>1800.0</td>\n",
       "      <td>4505.00</td>\n",
       "      <td>896040.0</td>\n",
       "    </tr>\n",
       "    <tr>\n",
       "      <th>PAY_AMT4</th>\n",
       "      <td>30000.0</td>\n",
       "      <td>4826.076867</td>\n",
       "      <td>15666.159744</td>\n",
       "      <td>0.0</td>\n",
       "      <td>296.00</td>\n",
       "      <td>1500.0</td>\n",
       "      <td>4013.25</td>\n",
       "      <td>621000.0</td>\n",
       "    </tr>\n",
       "    <tr>\n",
       "      <th>PAY_AMT5</th>\n",
       "      <td>30000.0</td>\n",
       "      <td>4799.387633</td>\n",
       "      <td>15278.305679</td>\n",
       "      <td>0.0</td>\n",
       "      <td>252.50</td>\n",
       "      <td>1500.0</td>\n",
       "      <td>4031.50</td>\n",
       "      <td>426529.0</td>\n",
       "    </tr>\n",
       "    <tr>\n",
       "      <th>PAY_AMT6</th>\n",
       "      <td>30000.0</td>\n",
       "      <td>5215.502567</td>\n",
       "      <td>17777.465775</td>\n",
       "      <td>0.0</td>\n",
       "      <td>117.75</td>\n",
       "      <td>1500.0</td>\n",
       "      <td>4000.00</td>\n",
       "      <td>528666.0</td>\n",
       "    </tr>\n",
       "    <tr>\n",
       "      <th>default.payment.next.month</th>\n",
       "      <td>30000.0</td>\n",
       "      <td>0.221200</td>\n",
       "      <td>0.415062</td>\n",
       "      <td>0.0</td>\n",
       "      <td>0.00</td>\n",
       "      <td>0.0</td>\n",
       "      <td>0.00</td>\n",
       "      <td>1.0</td>\n",
       "    </tr>\n",
       "  </tbody>\n",
       "</table>\n",
       "</div>"
      ],
      "text/plain": [
       "                              count           mean            std       min  \\\n",
       "ID                          30000.0   15000.500000    8660.398374       1.0   \n",
       "LIMIT_BAL                   30000.0  167484.322667  129747.661567   10000.0   \n",
       "SEX                         30000.0       1.603733       0.489129       1.0   \n",
       "EDUCATION                   30000.0       1.853133       0.790349       0.0   \n",
       "MARRIAGE                    30000.0       1.551867       0.521970       0.0   \n",
       "AGE                         30000.0      35.485500       9.217904      21.0   \n",
       "PAY_0                       30000.0      -0.016700       1.123802      -2.0   \n",
       "PAY_2                       30000.0      -0.133767       1.197186      -2.0   \n",
       "PAY_3                       30000.0      -0.166200       1.196868      -2.0   \n",
       "PAY_4                       30000.0      -0.220667       1.169139      -2.0   \n",
       "PAY_5                       30000.0      -0.266200       1.133187      -2.0   \n",
       "PAY_6                       30000.0      -0.291100       1.149988      -2.0   \n",
       "BILL_AMT1                   30000.0   51223.330900   73635.860576 -165580.0   \n",
       "BILL_AMT2                   30000.0   49179.075167   71173.768783  -69777.0   \n",
       "BILL_AMT3                   30000.0   47013.154800   69349.387427 -157264.0   \n",
       "BILL_AMT4                   30000.0   43262.948967   64332.856134 -170000.0   \n",
       "BILL_AMT5                   30000.0   40311.400967   60797.155770  -81334.0   \n",
       "BILL_AMT6                   30000.0   38871.760400   59554.107537 -339603.0   \n",
       "PAY_AMT1                    30000.0    5663.580500   16563.280354       0.0   \n",
       "PAY_AMT2                    30000.0    5921.163500   23040.870402       0.0   \n",
       "PAY_AMT3                    30000.0    5225.681500   17606.961470       0.0   \n",
       "PAY_AMT4                    30000.0    4826.076867   15666.159744       0.0   \n",
       "PAY_AMT5                    30000.0    4799.387633   15278.305679       0.0   \n",
       "PAY_AMT6                    30000.0    5215.502567   17777.465775       0.0   \n",
       "default.payment.next.month  30000.0       0.221200       0.415062       0.0   \n",
       "\n",
       "                                 25%       50%        75%        max  \n",
       "ID                           7500.75   15000.5   22500.25    30000.0  \n",
       "LIMIT_BAL                   50000.00  140000.0  240000.00  1000000.0  \n",
       "SEX                             1.00       2.0       2.00        2.0  \n",
       "EDUCATION                       1.00       2.0       2.00        6.0  \n",
       "MARRIAGE                        1.00       2.0       2.00        3.0  \n",
       "AGE                            28.00      34.0      41.00       79.0  \n",
       "PAY_0                          -1.00       0.0       0.00        8.0  \n",
       "PAY_2                          -1.00       0.0       0.00        8.0  \n",
       "PAY_3                          -1.00       0.0       0.00        8.0  \n",
       "PAY_4                          -1.00       0.0       0.00        8.0  \n",
       "PAY_5                          -1.00       0.0       0.00        8.0  \n",
       "PAY_6                          -1.00       0.0       0.00        8.0  \n",
       "BILL_AMT1                    3558.75   22381.5   67091.00   964511.0  \n",
       "BILL_AMT2                    2984.75   21200.0   64006.25   983931.0  \n",
       "BILL_AMT3                    2666.25   20088.5   60164.75  1664089.0  \n",
       "BILL_AMT4                    2326.75   19052.0   54506.00   891586.0  \n",
       "BILL_AMT5                    1763.00   18104.5   50190.50   927171.0  \n",
       "BILL_AMT6                    1256.00   17071.0   49198.25   961664.0  \n",
       "PAY_AMT1                     1000.00    2100.0    5006.00   873552.0  \n",
       "PAY_AMT2                      833.00    2009.0    5000.00  1684259.0  \n",
       "PAY_AMT3                      390.00    1800.0    4505.00   896040.0  \n",
       "PAY_AMT4                      296.00    1500.0    4013.25   621000.0  \n",
       "PAY_AMT5                      252.50    1500.0    4031.50   426529.0  \n",
       "PAY_AMT6                      117.75    1500.0    4000.00   528666.0  \n",
       "default.payment.next.month      0.00       0.0       0.00        1.0  "
      ]
     },
     "execution_count": 4,
     "metadata": {},
     "output_type": "execute_result"
    }
   ],
   "source": [
    "df.describe().T"
   ]
  },
  {
   "cell_type": "code",
   "execution_count": 5,
   "metadata": {},
   "outputs": [
    {
     "data": {
      "text/plain": [
       "Index(['PAY_0', 'PAY_2', 'PAY_3', 'PAY_4', 'PAY_5', 'PAY_6', 'BILL_AMT1',\n",
       "       'BILL_AMT2', 'BILL_AMT3', 'BILL_AMT4', 'BILL_AMT5', 'BILL_AMT6',\n",
       "       'PAY_AMT1', 'PAY_AMT2', 'PAY_AMT3', 'PAY_AMT4', 'PAY_AMT5', 'PAY_AMT6'],\n",
       "      dtype='object')"
      ]
     },
     "execution_count": 5,
     "metadata": {},
     "output_type": "execute_result"
    }
   ],
   "source": [
    "df.columns[6:24]"
   ]
  },
  {
   "cell_type": "markdown",
   "metadata": {},
   "source": [
    "# Rename header"
   ]
  },
  {
   "cell_type": "code",
   "execution_count": 6,
   "metadata": {},
   "outputs": [],
   "source": [
    "Repay=['Repay_September','Repay_August','Repay_July','Repay_June','Repay_May','Repay_April']\n",
    "Amount=['Amount_September','Amount_August','Amount_July','Amount_June','Amount_May','Amount_April']\n",
    "Bill=['Bill_September','Bill_August','Bill_July','Bill_June','Bill_May','Bill_April']\n",
    "new_name=Repay+Amount+Bill"
   ]
  },
  {
   "cell_type": "code",
   "execution_count": 7,
   "metadata": {},
   "outputs": [
    {
     "name": "stdout",
     "output_type": "stream",
     "text": [
      "PAY_0 renamed to  Repay_September\n",
      "PAY_2 renamed to  Repay_August\n",
      "PAY_3 renamed to  Repay_July\n",
      "PAY_4 renamed to  Repay_June\n",
      "PAY_5 renamed to  Repay_May\n",
      "PAY_6 renamed to  Repay_April\n",
      "BILL_AMT1 renamed to  Amount_September\n",
      "BILL_AMT2 renamed to  Amount_August\n",
      "BILL_AMT3 renamed to  Amount_July\n",
      "BILL_AMT4 renamed to  Amount_June\n",
      "BILL_AMT5 renamed to  Amount_May\n",
      "BILL_AMT6 renamed to  Amount_April\n",
      "PAY_AMT1 renamed to  Bill_September\n",
      "PAY_AMT2 renamed to  Bill_August\n",
      "PAY_AMT3 renamed to  Bill_July\n",
      "PAY_AMT4 renamed to  Bill_June\n",
      "PAY_AMT5 renamed to  Bill_May\n",
      "PAY_AMT6 renamed to  Bill_April\n"
     ]
    }
   ],
   "source": [
    "for i in range(len(df.columns[6:24])):\n",
    "    old=df.columns[6:24]\n",
    "    if i in range(0,6):\n",
    "        x=i\n",
    "        df.rename(columns={df.columns[6:24][x]:new_name[x]},inplace=True)\n",
    "    elif i in range(6,12):\n",
    "        y=i\n",
    "        df.rename(columns={df.columns[6:24][y]:new_name[y]},inplace=True)\n",
    "    elif i in range(12,24):\n",
    "        z=i\n",
    "        df.rename(columns={df.columns[6:24][z]:new_name[z]},inplace=True)\n",
    "    print(old[i], \"renamed to \",new_name[i])"
   ]
  },
  {
   "cell_type": "code",
   "execution_count": 8,
   "metadata": {},
   "outputs": [
    {
     "name": "stdout",
     "output_type": "stream",
     "text": [
      "<class 'pandas.core.frame.DataFrame'>\n",
      "RangeIndex: 30000 entries, 0 to 29999\n",
      "Data columns (total 25 columns):\n",
      " #   Column                      Non-Null Count  Dtype  \n",
      "---  ------                      --------------  -----  \n",
      " 0   ID                          30000 non-null  int64  \n",
      " 1   LIMIT_BAL                   30000 non-null  float64\n",
      " 2   SEX                         30000 non-null  int64  \n",
      " 3   EDUCATION                   30000 non-null  int64  \n",
      " 4   MARRIAGE                    30000 non-null  int64  \n",
      " 5   AGE                         30000 non-null  int64  \n",
      " 6   Repay_September             30000 non-null  int64  \n",
      " 7   Repay_August                30000 non-null  int64  \n",
      " 8   Repay_July                  30000 non-null  int64  \n",
      " 9   Repay_June                  30000 non-null  int64  \n",
      " 10  Repay_May                   30000 non-null  int64  \n",
      " 11  Repay_April                 30000 non-null  int64  \n",
      " 12  Amount_September            30000 non-null  float64\n",
      " 13  Amount_August               30000 non-null  float64\n",
      " 14  Amount_July                 30000 non-null  float64\n",
      " 15  Amount_June                 30000 non-null  float64\n",
      " 16  Amount_May                  30000 non-null  float64\n",
      " 17  Amount_April                30000 non-null  float64\n",
      " 18  Bill_September              30000 non-null  float64\n",
      " 19  Bill_August                 30000 non-null  float64\n",
      " 20  Bill_July                   30000 non-null  float64\n",
      " 21  Bill_June                   30000 non-null  float64\n",
      " 22  Bill_May                    30000 non-null  float64\n",
      " 23  Bill_April                  30000 non-null  float64\n",
      " 24  default.payment.next.month  30000 non-null  int64  \n",
      "dtypes: float64(13), int64(12)\n",
      "memory usage: 5.7 MB\n"
     ]
    }
   ],
   "source": [
    "df.info()"
   ]
  },
  {
   "cell_type": "markdown",
   "metadata": {},
   "source": [
    "# Check duplicate"
   ]
  },
  {
   "cell_type": "code",
   "execution_count": 9,
   "metadata": {},
   "outputs": [
    {
     "data": {
      "text/plain": [
       "False    30000\n",
       "dtype: int64"
      ]
     },
     "execution_count": 9,
     "metadata": {},
     "output_type": "execute_result"
    }
   ],
   "source": [
    "df.duplicated().value_counts()"
   ]
  },
  {
   "cell_type": "markdown",
   "metadata": {},
   "source": [
    "# Data preprocessing and handling outliers "
   ]
  },
  {
   "cell_type": "code",
   "execution_count": 10,
   "metadata": {},
   "outputs": [
    {
     "name": "stdout",
     "output_type": "stream",
     "text": [
      "Column name  ID , Count of  ID : 30000 \n",
      "\n",
      "start from  1 end with  30000 \n",
      "\n",
      "==================================================\n",
      "Column name  LIMIT_BAL , Count of  LIMIT_BAL : 81 \n",
      "\n",
      "start from  10000.0 end with  1000000.0 \n",
      "\n",
      "==================================================\n",
      "Column name  SEX , Count of  SEX : 2 \n",
      "\n",
      "start from  1 end with  2 \n",
      "\n",
      "==================================================\n",
      "Column name  EDUCATION , Count of  EDUCATION : 7 \n",
      "\n",
      "start from  0 end with  6 \n",
      "\n",
      "==================================================\n",
      "Column name  MARRIAGE , Count of  MARRIAGE : 4 \n",
      "\n",
      "start from  0 end with  3 \n",
      "\n",
      "==================================================\n",
      "Column name  AGE , Count of  AGE : 56 \n",
      "\n",
      "start from  21 end with  79 \n",
      "\n",
      "==================================================\n",
      "Column name  Repay_September , Count of  Repay_September : 11 \n",
      "\n",
      "start from  -2 end with  8 \n",
      "\n",
      "==================================================\n",
      "Column name  Repay_August , Count of  Repay_August : 11 \n",
      "\n",
      "start from  -2 end with  8 \n",
      "\n",
      "==================================================\n",
      "Column name  Repay_July , Count of  Repay_July : 11 \n",
      "\n",
      "start from  -2 end with  8 \n",
      "\n",
      "==================================================\n",
      "Column name  Repay_June , Count of  Repay_June : 11 \n",
      "\n",
      "start from  -2 end with  8 \n",
      "\n",
      "==================================================\n",
      "Column name  Repay_May , Count of  Repay_May : 10 \n",
      "\n",
      "start from  -2 end with  8 \n",
      "\n",
      "==================================================\n",
      "Column name  Repay_April , Count of  Repay_April : 10 \n",
      "\n",
      "start from  -2 end with  8 \n",
      "\n",
      "==================================================\n",
      "Column name  Amount_September , Count of  Amount_September : 22723 \n",
      "\n",
      "start from  -165580.0 end with  964511.0 \n",
      "\n",
      "==================================================\n",
      "Column name  Amount_August , Count of  Amount_August : 22346 \n",
      "\n",
      "start from  -69777.0 end with  983931.0 \n",
      "\n",
      "==================================================\n",
      "Column name  Amount_July , Count of  Amount_July : 22026 \n",
      "\n",
      "start from  -157264.0 end with  1664089.0 \n",
      "\n",
      "==================================================\n",
      "Column name  Amount_June , Count of  Amount_June : 21548 \n",
      "\n",
      "start from  -170000.0 end with  891586.0 \n",
      "\n",
      "==================================================\n",
      "Column name  Amount_May , Count of  Amount_May : 21010 \n",
      "\n",
      "start from  -81334.0 end with  927171.0 \n",
      "\n",
      "==================================================\n",
      "Column name  Amount_April , Count of  Amount_April : 20604 \n",
      "\n",
      "start from  -339603.0 end with  961664.0 \n",
      "\n",
      "==================================================\n",
      "Column name  Bill_September , Count of  Bill_September : 7943 \n",
      "\n",
      "start from  0.0 end with  873552.0 \n",
      "\n",
      "==================================================\n",
      "Column name  Bill_August , Count of  Bill_August : 7899 \n",
      "\n",
      "start from  0.0 end with  1684259.0 \n",
      "\n",
      "==================================================\n",
      "Column name  Bill_July , Count of  Bill_July : 7518 \n",
      "\n",
      "start from  0.0 end with  896040.0 \n",
      "\n",
      "==================================================\n",
      "Column name  Bill_June , Count of  Bill_June : 6937 \n",
      "\n",
      "start from  0.0 end with  621000.0 \n",
      "\n",
      "==================================================\n",
      "Column name  Bill_May , Count of  Bill_May : 6897 \n",
      "\n",
      "start from  0.0 end with  426529.0 \n",
      "\n",
      "==================================================\n",
      "Column name  Bill_April , Count of  Bill_April : 6939 \n",
      "\n",
      "start from  0.0 end with  528666.0 \n",
      "\n",
      "==================================================\n",
      "Column name  default.payment.next.month , Count of  default.payment.next.month : 2 \n",
      "\n",
      "start from  0 end with  1 \n",
      "\n",
      "==================================================\n"
     ]
    }
   ],
   "source": [
    "for i in df.columns:\n",
    "    print('Column name ',i,', Count of ',i,\":\",df[i].value_counts().count(),\"\\n\")\n",
    "    print(\"start from \",df[i].unique().min(),\"end with \",df[i].unique().max(),'\\n')\n",
    "    print('='*50)"
   ]
  },
  {
   "cell_type": "code",
   "execution_count": 11,
   "metadata": {},
   "outputs": [
    {
     "data": {
      "text/html": [
       "<div>\n",
       "<style scoped>\n",
       "    .dataframe tbody tr th:only-of-type {\n",
       "        vertical-align: middle;\n",
       "    }\n",
       "\n",
       "    .dataframe tbody tr th {\n",
       "        vertical-align: top;\n",
       "    }\n",
       "\n",
       "    .dataframe thead th {\n",
       "        text-align: right;\n",
       "    }\n",
       "</style>\n",
       "<table border=\"1\" class=\"dataframe\">\n",
       "  <thead>\n",
       "    <tr style=\"text-align: right;\">\n",
       "      <th></th>\n",
       "      <th>count</th>\n",
       "      <th>mean</th>\n",
       "      <th>std</th>\n",
       "      <th>min</th>\n",
       "      <th>25%</th>\n",
       "      <th>50%</th>\n",
       "      <th>75%</th>\n",
       "      <th>max</th>\n",
       "    </tr>\n",
       "  </thead>\n",
       "  <tbody>\n",
       "    <tr>\n",
       "      <th>ID</th>\n",
       "      <td>30000.0</td>\n",
       "      <td>15000.500000</td>\n",
       "      <td>8660.398374</td>\n",
       "      <td>1.0</td>\n",
       "      <td>7500.75</td>\n",
       "      <td>15000.5</td>\n",
       "      <td>22500.25</td>\n",
       "      <td>30000.0</td>\n",
       "    </tr>\n",
       "    <tr>\n",
       "      <th>LIMIT_BAL</th>\n",
       "      <td>30000.0</td>\n",
       "      <td>167484.322667</td>\n",
       "      <td>129747.661567</td>\n",
       "      <td>10000.0</td>\n",
       "      <td>50000.00</td>\n",
       "      <td>140000.0</td>\n",
       "      <td>240000.00</td>\n",
       "      <td>1000000.0</td>\n",
       "    </tr>\n",
       "    <tr>\n",
       "      <th>SEX</th>\n",
       "      <td>30000.0</td>\n",
       "      <td>1.603733</td>\n",
       "      <td>0.489129</td>\n",
       "      <td>1.0</td>\n",
       "      <td>1.00</td>\n",
       "      <td>2.0</td>\n",
       "      <td>2.00</td>\n",
       "      <td>2.0</td>\n",
       "    </tr>\n",
       "    <tr>\n",
       "      <th>EDUCATION</th>\n",
       "      <td>30000.0</td>\n",
       "      <td>1.853133</td>\n",
       "      <td>0.790349</td>\n",
       "      <td>0.0</td>\n",
       "      <td>1.00</td>\n",
       "      <td>2.0</td>\n",
       "      <td>2.00</td>\n",
       "      <td>6.0</td>\n",
       "    </tr>\n",
       "    <tr>\n",
       "      <th>MARRIAGE</th>\n",
       "      <td>30000.0</td>\n",
       "      <td>1.551867</td>\n",
       "      <td>0.521970</td>\n",
       "      <td>0.0</td>\n",
       "      <td>1.00</td>\n",
       "      <td>2.0</td>\n",
       "      <td>2.00</td>\n",
       "      <td>3.0</td>\n",
       "    </tr>\n",
       "    <tr>\n",
       "      <th>AGE</th>\n",
       "      <td>30000.0</td>\n",
       "      <td>35.485500</td>\n",
       "      <td>9.217904</td>\n",
       "      <td>21.0</td>\n",
       "      <td>28.00</td>\n",
       "      <td>34.0</td>\n",
       "      <td>41.00</td>\n",
       "      <td>79.0</td>\n",
       "    </tr>\n",
       "    <tr>\n",
       "      <th>Repay_September</th>\n",
       "      <td>30000.0</td>\n",
       "      <td>-0.016700</td>\n",
       "      <td>1.123802</td>\n",
       "      <td>-2.0</td>\n",
       "      <td>-1.00</td>\n",
       "      <td>0.0</td>\n",
       "      <td>0.00</td>\n",
       "      <td>8.0</td>\n",
       "    </tr>\n",
       "    <tr>\n",
       "      <th>Repay_August</th>\n",
       "      <td>30000.0</td>\n",
       "      <td>-0.133767</td>\n",
       "      <td>1.197186</td>\n",
       "      <td>-2.0</td>\n",
       "      <td>-1.00</td>\n",
       "      <td>0.0</td>\n",
       "      <td>0.00</td>\n",
       "      <td>8.0</td>\n",
       "    </tr>\n",
       "    <tr>\n",
       "      <th>Repay_July</th>\n",
       "      <td>30000.0</td>\n",
       "      <td>-0.166200</td>\n",
       "      <td>1.196868</td>\n",
       "      <td>-2.0</td>\n",
       "      <td>-1.00</td>\n",
       "      <td>0.0</td>\n",
       "      <td>0.00</td>\n",
       "      <td>8.0</td>\n",
       "    </tr>\n",
       "    <tr>\n",
       "      <th>Repay_June</th>\n",
       "      <td>30000.0</td>\n",
       "      <td>-0.220667</td>\n",
       "      <td>1.169139</td>\n",
       "      <td>-2.0</td>\n",
       "      <td>-1.00</td>\n",
       "      <td>0.0</td>\n",
       "      <td>0.00</td>\n",
       "      <td>8.0</td>\n",
       "    </tr>\n",
       "    <tr>\n",
       "      <th>Repay_May</th>\n",
       "      <td>30000.0</td>\n",
       "      <td>-0.266200</td>\n",
       "      <td>1.133187</td>\n",
       "      <td>-2.0</td>\n",
       "      <td>-1.00</td>\n",
       "      <td>0.0</td>\n",
       "      <td>0.00</td>\n",
       "      <td>8.0</td>\n",
       "    </tr>\n",
       "    <tr>\n",
       "      <th>Repay_April</th>\n",
       "      <td>30000.0</td>\n",
       "      <td>-0.291100</td>\n",
       "      <td>1.149988</td>\n",
       "      <td>-2.0</td>\n",
       "      <td>-1.00</td>\n",
       "      <td>0.0</td>\n",
       "      <td>0.00</td>\n",
       "      <td>8.0</td>\n",
       "    </tr>\n",
       "    <tr>\n",
       "      <th>Amount_September</th>\n",
       "      <td>30000.0</td>\n",
       "      <td>51223.330900</td>\n",
       "      <td>73635.860576</td>\n",
       "      <td>-165580.0</td>\n",
       "      <td>3558.75</td>\n",
       "      <td>22381.5</td>\n",
       "      <td>67091.00</td>\n",
       "      <td>964511.0</td>\n",
       "    </tr>\n",
       "    <tr>\n",
       "      <th>Amount_August</th>\n",
       "      <td>30000.0</td>\n",
       "      <td>49179.075167</td>\n",
       "      <td>71173.768783</td>\n",
       "      <td>-69777.0</td>\n",
       "      <td>2984.75</td>\n",
       "      <td>21200.0</td>\n",
       "      <td>64006.25</td>\n",
       "      <td>983931.0</td>\n",
       "    </tr>\n",
       "    <tr>\n",
       "      <th>Amount_July</th>\n",
       "      <td>30000.0</td>\n",
       "      <td>47013.154800</td>\n",
       "      <td>69349.387427</td>\n",
       "      <td>-157264.0</td>\n",
       "      <td>2666.25</td>\n",
       "      <td>20088.5</td>\n",
       "      <td>60164.75</td>\n",
       "      <td>1664089.0</td>\n",
       "    </tr>\n",
       "    <tr>\n",
       "      <th>Amount_June</th>\n",
       "      <td>30000.0</td>\n",
       "      <td>43262.948967</td>\n",
       "      <td>64332.856134</td>\n",
       "      <td>-170000.0</td>\n",
       "      <td>2326.75</td>\n",
       "      <td>19052.0</td>\n",
       "      <td>54506.00</td>\n",
       "      <td>891586.0</td>\n",
       "    </tr>\n",
       "    <tr>\n",
       "      <th>Amount_May</th>\n",
       "      <td>30000.0</td>\n",
       "      <td>40311.400967</td>\n",
       "      <td>60797.155770</td>\n",
       "      <td>-81334.0</td>\n",
       "      <td>1763.00</td>\n",
       "      <td>18104.5</td>\n",
       "      <td>50190.50</td>\n",
       "      <td>927171.0</td>\n",
       "    </tr>\n",
       "    <tr>\n",
       "      <th>Amount_April</th>\n",
       "      <td>30000.0</td>\n",
       "      <td>38871.760400</td>\n",
       "      <td>59554.107537</td>\n",
       "      <td>-339603.0</td>\n",
       "      <td>1256.00</td>\n",
       "      <td>17071.0</td>\n",
       "      <td>49198.25</td>\n",
       "      <td>961664.0</td>\n",
       "    </tr>\n",
       "    <tr>\n",
       "      <th>Bill_September</th>\n",
       "      <td>30000.0</td>\n",
       "      <td>5663.580500</td>\n",
       "      <td>16563.280354</td>\n",
       "      <td>0.0</td>\n",
       "      <td>1000.00</td>\n",
       "      <td>2100.0</td>\n",
       "      <td>5006.00</td>\n",
       "      <td>873552.0</td>\n",
       "    </tr>\n",
       "    <tr>\n",
       "      <th>Bill_August</th>\n",
       "      <td>30000.0</td>\n",
       "      <td>5921.163500</td>\n",
       "      <td>23040.870402</td>\n",
       "      <td>0.0</td>\n",
       "      <td>833.00</td>\n",
       "      <td>2009.0</td>\n",
       "      <td>5000.00</td>\n",
       "      <td>1684259.0</td>\n",
       "    </tr>\n",
       "    <tr>\n",
       "      <th>Bill_July</th>\n",
       "      <td>30000.0</td>\n",
       "      <td>5225.681500</td>\n",
       "      <td>17606.961470</td>\n",
       "      <td>0.0</td>\n",
       "      <td>390.00</td>\n",
       "      <td>1800.0</td>\n",
       "      <td>4505.00</td>\n",
       "      <td>896040.0</td>\n",
       "    </tr>\n",
       "    <tr>\n",
       "      <th>Bill_June</th>\n",
       "      <td>30000.0</td>\n",
       "      <td>4826.076867</td>\n",
       "      <td>15666.159744</td>\n",
       "      <td>0.0</td>\n",
       "      <td>296.00</td>\n",
       "      <td>1500.0</td>\n",
       "      <td>4013.25</td>\n",
       "      <td>621000.0</td>\n",
       "    </tr>\n",
       "    <tr>\n",
       "      <th>Bill_May</th>\n",
       "      <td>30000.0</td>\n",
       "      <td>4799.387633</td>\n",
       "      <td>15278.305679</td>\n",
       "      <td>0.0</td>\n",
       "      <td>252.50</td>\n",
       "      <td>1500.0</td>\n",
       "      <td>4031.50</td>\n",
       "      <td>426529.0</td>\n",
       "    </tr>\n",
       "    <tr>\n",
       "      <th>Bill_April</th>\n",
       "      <td>30000.0</td>\n",
       "      <td>5215.502567</td>\n",
       "      <td>17777.465775</td>\n",
       "      <td>0.0</td>\n",
       "      <td>117.75</td>\n",
       "      <td>1500.0</td>\n",
       "      <td>4000.00</td>\n",
       "      <td>528666.0</td>\n",
       "    </tr>\n",
       "    <tr>\n",
       "      <th>default.payment.next.month</th>\n",
       "      <td>30000.0</td>\n",
       "      <td>0.221200</td>\n",
       "      <td>0.415062</td>\n",
       "      <td>0.0</td>\n",
       "      <td>0.00</td>\n",
       "      <td>0.0</td>\n",
       "      <td>0.00</td>\n",
       "      <td>1.0</td>\n",
       "    </tr>\n",
       "  </tbody>\n",
       "</table>\n",
       "</div>"
      ],
      "text/plain": [
       "                              count           mean            std       min  \\\n",
       "ID                          30000.0   15000.500000    8660.398374       1.0   \n",
       "LIMIT_BAL                   30000.0  167484.322667  129747.661567   10000.0   \n",
       "SEX                         30000.0       1.603733       0.489129       1.0   \n",
       "EDUCATION                   30000.0       1.853133       0.790349       0.0   \n",
       "MARRIAGE                    30000.0       1.551867       0.521970       0.0   \n",
       "AGE                         30000.0      35.485500       9.217904      21.0   \n",
       "Repay_September             30000.0      -0.016700       1.123802      -2.0   \n",
       "Repay_August                30000.0      -0.133767       1.197186      -2.0   \n",
       "Repay_July                  30000.0      -0.166200       1.196868      -2.0   \n",
       "Repay_June                  30000.0      -0.220667       1.169139      -2.0   \n",
       "Repay_May                   30000.0      -0.266200       1.133187      -2.0   \n",
       "Repay_April                 30000.0      -0.291100       1.149988      -2.0   \n",
       "Amount_September            30000.0   51223.330900   73635.860576 -165580.0   \n",
       "Amount_August               30000.0   49179.075167   71173.768783  -69777.0   \n",
       "Amount_July                 30000.0   47013.154800   69349.387427 -157264.0   \n",
       "Amount_June                 30000.0   43262.948967   64332.856134 -170000.0   \n",
       "Amount_May                  30000.0   40311.400967   60797.155770  -81334.0   \n",
       "Amount_April                30000.0   38871.760400   59554.107537 -339603.0   \n",
       "Bill_September              30000.0    5663.580500   16563.280354       0.0   \n",
       "Bill_August                 30000.0    5921.163500   23040.870402       0.0   \n",
       "Bill_July                   30000.0    5225.681500   17606.961470       0.0   \n",
       "Bill_June                   30000.0    4826.076867   15666.159744       0.0   \n",
       "Bill_May                    30000.0    4799.387633   15278.305679       0.0   \n",
       "Bill_April                  30000.0    5215.502567   17777.465775       0.0   \n",
       "default.payment.next.month  30000.0       0.221200       0.415062       0.0   \n",
       "\n",
       "                                 25%       50%        75%        max  \n",
       "ID                           7500.75   15000.5   22500.25    30000.0  \n",
       "LIMIT_BAL                   50000.00  140000.0  240000.00  1000000.0  \n",
       "SEX                             1.00       2.0       2.00        2.0  \n",
       "EDUCATION                       1.00       2.0       2.00        6.0  \n",
       "MARRIAGE                        1.00       2.0       2.00        3.0  \n",
       "AGE                            28.00      34.0      41.00       79.0  \n",
       "Repay_September                -1.00       0.0       0.00        8.0  \n",
       "Repay_August                   -1.00       0.0       0.00        8.0  \n",
       "Repay_July                     -1.00       0.0       0.00        8.0  \n",
       "Repay_June                     -1.00       0.0       0.00        8.0  \n",
       "Repay_May                      -1.00       0.0       0.00        8.0  \n",
       "Repay_April                    -1.00       0.0       0.00        8.0  \n",
       "Amount_September             3558.75   22381.5   67091.00   964511.0  \n",
       "Amount_August                2984.75   21200.0   64006.25   983931.0  \n",
       "Amount_July                  2666.25   20088.5   60164.75  1664089.0  \n",
       "Amount_June                  2326.75   19052.0   54506.00   891586.0  \n",
       "Amount_May                   1763.00   18104.5   50190.50   927171.0  \n",
       "Amount_April                 1256.00   17071.0   49198.25   961664.0  \n",
       "Bill_September               1000.00    2100.0    5006.00   873552.0  \n",
       "Bill_August                   833.00    2009.0    5000.00  1684259.0  \n",
       "Bill_July                     390.00    1800.0    4505.00   896040.0  \n",
       "Bill_June                     296.00    1500.0    4013.25   621000.0  \n",
       "Bill_May                      252.50    1500.0    4031.50   426529.0  \n",
       "Bill_April                    117.75    1500.0    4000.00   528666.0  \n",
       "default.payment.next.month      0.00       0.0       0.00        1.0  "
      ]
     },
     "execution_count": 11,
     "metadata": {},
     "output_type": "execute_result"
    }
   ],
   "source": [
    "df.describe().T"
   ]
  },
  {
   "cell_type": "code",
   "execution_count": 12,
   "metadata": {},
   "outputs": [],
   "source": [
    "df['EDUCATION'].replace([0],df['EDUCATION'].median(),inplace=True)\n",
    "df['EDUCATION'].replace([5],[4],inplace=True)\n",
    "df['EDUCATION'].replace([6],[4],inplace=True)"
   ]
  },
  {
   "cell_type": "code",
   "execution_count": 13,
   "metadata": {},
   "outputs": [],
   "source": [
    "df['MARRIAGE'].replace([0],df['MARRIAGE'].median(),inplace=True)"
   ]
  },
  {
   "cell_type": "code",
   "execution_count": 14,
   "metadata": {},
   "outputs": [
    {
     "name": "stdout",
     "output_type": "stream",
     "text": [
      "Column name  Repay_September , Count of  Repay_September : 11 \n",
      "\n",
      " 0    14737\n",
      "-1     5686\n",
      " 1     3688\n",
      "-2     2759\n",
      " 2     2667\n",
      " 3      322\n",
      " 4       76\n",
      " 5       26\n",
      " 8       19\n",
      " 6       11\n",
      " 7        9\n",
      "Name: Repay_September, dtype: int64 \n",
      "\n",
      "==================================================\n",
      "Column name  Repay_August , Count of  Repay_August : 11 \n",
      "\n",
      " 0    15730\n",
      "-1     6050\n",
      " 2     3927\n",
      "-2     3782\n",
      " 3      326\n",
      " 4       99\n",
      " 1       28\n",
      " 5       25\n",
      " 7       20\n",
      " 6       12\n",
      " 8        1\n",
      "Name: Repay_August, dtype: int64 \n",
      "\n",
      "==================================================\n",
      "Column name  Repay_July , Count of  Repay_July : 11 \n",
      "\n",
      " 0    15764\n",
      "-1     5938\n",
      "-2     4085\n",
      " 2     3819\n",
      " 3      240\n",
      " 4       76\n",
      " 7       27\n",
      " 6       23\n",
      " 5       21\n",
      " 1        4\n",
      " 8        3\n",
      "Name: Repay_July, dtype: int64 \n",
      "\n",
      "==================================================\n",
      "Column name  Repay_June , Count of  Repay_June : 11 \n",
      "\n",
      " 0    16455\n",
      "-1     5687\n",
      "-2     4348\n",
      " 2     3159\n",
      " 3      180\n",
      " 4       69\n",
      " 7       58\n",
      " 5       35\n",
      " 6        5\n",
      " 8        2\n",
      " 1        2\n",
      "Name: Repay_June, dtype: int64 \n",
      "\n",
      "==================================================\n",
      "Column name  Repay_May , Count of  Repay_May : 10 \n",
      "\n",
      " 0    16947\n",
      "-1     5539\n",
      "-2     4546\n",
      " 2     2626\n",
      " 3      178\n",
      " 4       84\n",
      " 7       58\n",
      " 5       17\n",
      " 6        4\n",
      " 8        1\n",
      "Name: Repay_May, dtype: int64 \n",
      "\n",
      "==================================================\n",
      "Column name  Repay_April , Count of  Repay_April : 10 \n",
      "\n",
      " 0    16286\n",
      "-1     5740\n",
      "-2     4895\n",
      " 2     2766\n",
      " 3      184\n",
      " 4       49\n",
      " 7       46\n",
      " 6       19\n",
      " 5       13\n",
      " 8        2\n",
      "Name: Repay_April, dtype: int64 \n",
      "\n",
      "==================================================\n"
     ]
    }
   ],
   "source": [
    "for i in df.columns[6:12]:\n",
    "    print('Column name ',i,', Count of ',i,\":\",df[i].value_counts().count(),\"\\n\")\n",
    "    print(df[i].value_counts(),'\\n')\n",
    "    print('='*50)"
   ]
  },
  {
   "cell_type": "code",
   "execution_count": 15,
   "metadata": {},
   "outputs": [
    {
     "name": "stdout",
     "output_type": "stream",
     "text": [
      "Zero value in  Repay_September replaced with  -1\n",
      "Zero value in  Repay_August replaced with  -1\n",
      "Zero value in  Repay_July replaced with  -1\n",
      "Zero value in  Repay_June replaced with  -1\n",
      "Zero value in  Repay_May replaced with  -1\n",
      "Zero value in  Repay_April replaced with  -1\n"
     ]
    }
   ],
   "source": [
    "for i in df.columns[6:12]:\n",
    "    value=df[i].value_counts().index[1]\n",
    "    df[i].replace([0],[-1],inplace=True)\n",
    "    print(\"Zero value in \",i, 'replaced with ',value )"
   ]
  },
  {
   "cell_type": "code",
   "execution_count": 16,
   "metadata": {
    "scrolled": true
   },
   "outputs": [
    {
     "name": "stdout",
     "output_type": "stream",
     "text": [
      "Zero value at  Amount_September replaced with median \n",
      "\n",
      "============================================================\n",
      "Zero value at  Amount_August replaced with median \n",
      "\n",
      "============================================================\n",
      "Zero value at  Amount_July replaced with median \n",
      "\n",
      "============================================================\n",
      "Zero value at  Amount_June replaced with median \n",
      "\n",
      "============================================================\n",
      "Zero value at  Amount_May replaced with median \n",
      "\n",
      "============================================================\n",
      "Zero value at  Amount_April replaced with median \n",
      "\n",
      "============================================================\n"
     ]
    }
   ],
   "source": [
    "for i in df.columns[12:18]:\n",
    "    df[i].replace([0],df[i].median(),inplace=True)\n",
    "    print(\"Zero value at \",i,\"replaced with median\",\"\\n\")\n",
    "    print(\"=\"*60)"
   ]
  },
  {
   "cell_type": "code",
   "execution_count": 17,
   "metadata": {
    "scrolled": true
   },
   "outputs": [
    {
     "name": "stdout",
     "output_type": "stream",
     "text": [
      "Zero value at  Bill_September replaced with median \n",
      "\n",
      "============================================================\n",
      "Zero value at  Bill_August replaced with median \n",
      "\n",
      "============================================================\n",
      "Zero value at  Bill_July replaced with median \n",
      "\n",
      "============================================================\n",
      "Zero value at  Bill_June replaced with median \n",
      "\n",
      "============================================================\n",
      "Zero value at  Bill_May replaced with median \n",
      "\n",
      "============================================================\n",
      "Zero value at  Bill_April replaced with median \n",
      "\n",
      "============================================================\n"
     ]
    }
   ],
   "source": [
    "for i in df.columns[18:24]:\n",
    "    df[i].replace([0],df[i].median(),inplace=True)\n",
    "    print(\"Zero value at \",i,\"replaced with median\",\"\\n\")\n",
    "    print(\"=\"*60)"
   ]
  },
  {
   "cell_type": "code",
   "execution_count": 18,
   "metadata": {},
   "outputs": [
    {
     "data": {
      "text/html": [
       "<div>\n",
       "<style scoped>\n",
       "    .dataframe tbody tr th:only-of-type {\n",
       "        vertical-align: middle;\n",
       "    }\n",
       "\n",
       "    .dataframe tbody tr th {\n",
       "        vertical-align: top;\n",
       "    }\n",
       "\n",
       "    .dataframe thead th {\n",
       "        text-align: right;\n",
       "    }\n",
       "</style>\n",
       "<table border=\"1\" class=\"dataframe\">\n",
       "  <thead>\n",
       "    <tr style=\"text-align: right;\">\n",
       "      <th></th>\n",
       "      <th>count</th>\n",
       "      <th>mean</th>\n",
       "      <th>std</th>\n",
       "      <th>min</th>\n",
       "      <th>25%</th>\n",
       "      <th>50%</th>\n",
       "      <th>75%</th>\n",
       "      <th>max</th>\n",
       "    </tr>\n",
       "  </thead>\n",
       "  <tbody>\n",
       "    <tr>\n",
       "      <th>ID</th>\n",
       "      <td>30000.0</td>\n",
       "      <td>15000.500000</td>\n",
       "      <td>8660.398374</td>\n",
       "      <td>1.0</td>\n",
       "      <td>7500.75</td>\n",
       "      <td>15000.50</td>\n",
       "      <td>22500.25</td>\n",
       "      <td>30000.0</td>\n",
       "    </tr>\n",
       "    <tr>\n",
       "      <th>LIMIT_BAL</th>\n",
       "      <td>30000.0</td>\n",
       "      <td>167484.322667</td>\n",
       "      <td>129747.661567</td>\n",
       "      <td>10000.0</td>\n",
       "      <td>50000.00</td>\n",
       "      <td>140000.00</td>\n",
       "      <td>240000.00</td>\n",
       "      <td>1000000.0</td>\n",
       "    </tr>\n",
       "    <tr>\n",
       "      <th>SEX</th>\n",
       "      <td>30000.0</td>\n",
       "      <td>1.603733</td>\n",
       "      <td>0.489129</td>\n",
       "      <td>1.0</td>\n",
       "      <td>1.00</td>\n",
       "      <td>2.00</td>\n",
       "      <td>2.00</td>\n",
       "      <td>2.0</td>\n",
       "    </tr>\n",
       "    <tr>\n",
       "      <th>EDUCATION</th>\n",
       "      <td>30000.0</td>\n",
       "      <td>1.841333</td>\n",
       "      <td>0.743041</td>\n",
       "      <td>1.0</td>\n",
       "      <td>1.00</td>\n",
       "      <td>2.00</td>\n",
       "      <td>2.00</td>\n",
       "      <td>4.0</td>\n",
       "    </tr>\n",
       "    <tr>\n",
       "      <th>MARRIAGE</th>\n",
       "      <td>30000.0</td>\n",
       "      <td>1.555467</td>\n",
       "      <td>0.518137</td>\n",
       "      <td>1.0</td>\n",
       "      <td>1.00</td>\n",
       "      <td>2.00</td>\n",
       "      <td>2.00</td>\n",
       "      <td>3.0</td>\n",
       "    </tr>\n",
       "    <tr>\n",
       "      <th>AGE</th>\n",
       "      <td>30000.0</td>\n",
       "      <td>35.485500</td>\n",
       "      <td>9.217904</td>\n",
       "      <td>21.0</td>\n",
       "      <td>28.00</td>\n",
       "      <td>34.00</td>\n",
       "      <td>41.00</td>\n",
       "      <td>79.0</td>\n",
       "    </tr>\n",
       "    <tr>\n",
       "      <th>Repay_September</th>\n",
       "      <td>30000.0</td>\n",
       "      <td>-0.507933</td>\n",
       "      <td>1.223296</td>\n",
       "      <td>-2.0</td>\n",
       "      <td>-1.00</td>\n",
       "      <td>-1.00</td>\n",
       "      <td>-1.00</td>\n",
       "      <td>8.0</td>\n",
       "    </tr>\n",
       "    <tr>\n",
       "      <th>Repay_August</th>\n",
       "      <td>30000.0</td>\n",
       "      <td>-0.658100</td>\n",
       "      <td>1.241930</td>\n",
       "      <td>-2.0</td>\n",
       "      <td>-1.00</td>\n",
       "      <td>-1.00</td>\n",
       "      <td>-1.00</td>\n",
       "      <td>8.0</td>\n",
       "    </tr>\n",
       "    <tr>\n",
       "      <th>Repay_July</th>\n",
       "      <td>30000.0</td>\n",
       "      <td>-0.691667</td>\n",
       "      <td>1.227673</td>\n",
       "      <td>-2.0</td>\n",
       "      <td>-1.00</td>\n",
       "      <td>-1.00</td>\n",
       "      <td>-1.00</td>\n",
       "      <td>8.0</td>\n",
       "    </tr>\n",
       "    <tr>\n",
       "      <th>Repay_June</th>\n",
       "      <td>30000.0</td>\n",
       "      <td>-0.769167</td>\n",
       "      <td>1.171521</td>\n",
       "      <td>-2.0</td>\n",
       "      <td>-1.00</td>\n",
       "      <td>-1.00</td>\n",
       "      <td>-1.00</td>\n",
       "      <td>8.0</td>\n",
       "    </tr>\n",
       "    <tr>\n",
       "      <th>Repay_May</th>\n",
       "      <td>30000.0</td>\n",
       "      <td>-0.831100</td>\n",
       "      <td>1.108669</td>\n",
       "      <td>-2.0</td>\n",
       "      <td>-1.00</td>\n",
       "      <td>-1.00</td>\n",
       "      <td>-1.00</td>\n",
       "      <td>8.0</td>\n",
       "    </tr>\n",
       "    <tr>\n",
       "      <th>Repay_April</th>\n",
       "      <td>30000.0</td>\n",
       "      <td>-0.833967</td>\n",
       "      <td>1.120078</td>\n",
       "      <td>-2.0</td>\n",
       "      <td>-1.00</td>\n",
       "      <td>-1.00</td>\n",
       "      <td>-1.00</td>\n",
       "      <td>8.0</td>\n",
       "    </tr>\n",
       "    <tr>\n",
       "      <th>Amount_September</th>\n",
       "      <td>30000.0</td>\n",
       "      <td>52721.399300</td>\n",
       "      <td>72801.432623</td>\n",
       "      <td>-165580.0</td>\n",
       "      <td>7063.25</td>\n",
       "      <td>22381.75</td>\n",
       "      <td>67091.00</td>\n",
       "      <td>964511.0</td>\n",
       "    </tr>\n",
       "    <tr>\n",
       "      <th>Amount_August</th>\n",
       "      <td>30000.0</td>\n",
       "      <td>50949.981833</td>\n",
       "      <td>70184.932216</td>\n",
       "      <td>-69777.0</td>\n",
       "      <td>7558.25</td>\n",
       "      <td>21201.50</td>\n",
       "      <td>64006.25</td>\n",
       "      <td>983931.0</td>\n",
       "    </tr>\n",
       "    <tr>\n",
       "      <th>Amount_July</th>\n",
       "      <td>30000.0</td>\n",
       "      <td>48934.954633</td>\n",
       "      <td>68290.158090</td>\n",
       "      <td>-157264.0</td>\n",
       "      <td>8149.25</td>\n",
       "      <td>20088.75</td>\n",
       "      <td>60164.75</td>\n",
       "      <td>1664089.0</td>\n",
       "    </tr>\n",
       "    <tr>\n",
       "      <th>Amount_June</th>\n",
       "      <td>30000.0</td>\n",
       "      <td>45291.986967</td>\n",
       "      <td>63227.269269</td>\n",
       "      <td>-170000.0</td>\n",
       "      <td>8339.75</td>\n",
       "      <td>19052.00</td>\n",
       "      <td>54506.00</td>\n",
       "      <td>891586.0</td>\n",
       "    </tr>\n",
       "    <tr>\n",
       "      <th>Amount_May</th>\n",
       "      <td>30000.0</td>\n",
       "      <td>42427.213533</td>\n",
       "      <td>59661.846430</td>\n",
       "      <td>-81334.0</td>\n",
       "      <td>7988.00</td>\n",
       "      <td>18104.75</td>\n",
       "      <td>50190.50</td>\n",
       "      <td>927171.0</td>\n",
       "    </tr>\n",
       "    <tr>\n",
       "      <th>Amount_April</th>\n",
       "      <td>30000.0</td>\n",
       "      <td>41159.274400</td>\n",
       "      <td>58332.366338</td>\n",
       "      <td>-339603.0</td>\n",
       "      <td>7687.50</td>\n",
       "      <td>17072.50</td>\n",
       "      <td>49198.25</td>\n",
       "      <td>961664.0</td>\n",
       "    </tr>\n",
       "    <tr>\n",
       "      <th>Bill_September</th>\n",
       "      <td>30000.0</td>\n",
       "      <td>6031.010500</td>\n",
       "      <td>16456.512328</td>\n",
       "      <td>1.0</td>\n",
       "      <td>1896.75</td>\n",
       "      <td>2100.00</td>\n",
       "      <td>5006.00</td>\n",
       "      <td>873552.0</td>\n",
       "    </tr>\n",
       "    <tr>\n",
       "      <th>Bill_August</th>\n",
       "      <td>30000.0</td>\n",
       "      <td>6282.515633</td>\n",
       "      <td>22960.786507</td>\n",
       "      <td>1.0</td>\n",
       "      <td>1786.00</td>\n",
       "      <td>2009.00</td>\n",
       "      <td>5000.00</td>\n",
       "      <td>1684259.0</td>\n",
       "    </tr>\n",
       "    <tr>\n",
       "      <th>Bill_July</th>\n",
       "      <td>30000.0</td>\n",
       "      <td>5583.761500</td>\n",
       "      <td>17515.104433</td>\n",
       "      <td>1.0</td>\n",
       "      <td>1500.00</td>\n",
       "      <td>1800.00</td>\n",
       "      <td>4505.00</td>\n",
       "      <td>896040.0</td>\n",
       "    </tr>\n",
       "    <tr>\n",
       "      <th>Bill_June</th>\n",
       "      <td>30000.0</td>\n",
       "      <td>5146.476867</td>\n",
       "      <td>15579.276762</td>\n",
       "      <td>1.0</td>\n",
       "      <td>1207.00</td>\n",
       "      <td>1500.00</td>\n",
       "      <td>4013.25</td>\n",
       "      <td>621000.0</td>\n",
       "    </tr>\n",
       "    <tr>\n",
       "      <th>Bill_May</th>\n",
       "      <td>30000.0</td>\n",
       "      <td>5134.537633</td>\n",
       "      <td>15185.516130</td>\n",
       "      <td>1.0</td>\n",
       "      <td>1346.00</td>\n",
       "      <td>1500.00</td>\n",
       "      <td>4031.50</td>\n",
       "      <td>426529.0</td>\n",
       "    </tr>\n",
       "    <tr>\n",
       "      <th>Bill_April</th>\n",
       "      <td>30000.0</td>\n",
       "      <td>5574.152567</td>\n",
       "      <td>17683.507670</td>\n",
       "      <td>1.0</td>\n",
       "      <td>1435.00</td>\n",
       "      <td>1500.00</td>\n",
       "      <td>4000.00</td>\n",
       "      <td>528666.0</td>\n",
       "    </tr>\n",
       "    <tr>\n",
       "      <th>default.payment.next.month</th>\n",
       "      <td>30000.0</td>\n",
       "      <td>0.221200</td>\n",
       "      <td>0.415062</td>\n",
       "      <td>0.0</td>\n",
       "      <td>0.00</td>\n",
       "      <td>0.00</td>\n",
       "      <td>0.00</td>\n",
       "      <td>1.0</td>\n",
       "    </tr>\n",
       "  </tbody>\n",
       "</table>\n",
       "</div>"
      ],
      "text/plain": [
       "                              count           mean            std       min  \\\n",
       "ID                          30000.0   15000.500000    8660.398374       1.0   \n",
       "LIMIT_BAL                   30000.0  167484.322667  129747.661567   10000.0   \n",
       "SEX                         30000.0       1.603733       0.489129       1.0   \n",
       "EDUCATION                   30000.0       1.841333       0.743041       1.0   \n",
       "MARRIAGE                    30000.0       1.555467       0.518137       1.0   \n",
       "AGE                         30000.0      35.485500       9.217904      21.0   \n",
       "Repay_September             30000.0      -0.507933       1.223296      -2.0   \n",
       "Repay_August                30000.0      -0.658100       1.241930      -2.0   \n",
       "Repay_July                  30000.0      -0.691667       1.227673      -2.0   \n",
       "Repay_June                  30000.0      -0.769167       1.171521      -2.0   \n",
       "Repay_May                   30000.0      -0.831100       1.108669      -2.0   \n",
       "Repay_April                 30000.0      -0.833967       1.120078      -2.0   \n",
       "Amount_September            30000.0   52721.399300   72801.432623 -165580.0   \n",
       "Amount_August               30000.0   50949.981833   70184.932216  -69777.0   \n",
       "Amount_July                 30000.0   48934.954633   68290.158090 -157264.0   \n",
       "Amount_June                 30000.0   45291.986967   63227.269269 -170000.0   \n",
       "Amount_May                  30000.0   42427.213533   59661.846430  -81334.0   \n",
       "Amount_April                30000.0   41159.274400   58332.366338 -339603.0   \n",
       "Bill_September              30000.0    6031.010500   16456.512328       1.0   \n",
       "Bill_August                 30000.0    6282.515633   22960.786507       1.0   \n",
       "Bill_July                   30000.0    5583.761500   17515.104433       1.0   \n",
       "Bill_June                   30000.0    5146.476867   15579.276762       1.0   \n",
       "Bill_May                    30000.0    5134.537633   15185.516130       1.0   \n",
       "Bill_April                  30000.0    5574.152567   17683.507670       1.0   \n",
       "default.payment.next.month  30000.0       0.221200       0.415062       0.0   \n",
       "\n",
       "                                 25%        50%        75%        max  \n",
       "ID                           7500.75   15000.50   22500.25    30000.0  \n",
       "LIMIT_BAL                   50000.00  140000.00  240000.00  1000000.0  \n",
       "SEX                             1.00       2.00       2.00        2.0  \n",
       "EDUCATION                       1.00       2.00       2.00        4.0  \n",
       "MARRIAGE                        1.00       2.00       2.00        3.0  \n",
       "AGE                            28.00      34.00      41.00       79.0  \n",
       "Repay_September                -1.00      -1.00      -1.00        8.0  \n",
       "Repay_August                   -1.00      -1.00      -1.00        8.0  \n",
       "Repay_July                     -1.00      -1.00      -1.00        8.0  \n",
       "Repay_June                     -1.00      -1.00      -1.00        8.0  \n",
       "Repay_May                      -1.00      -1.00      -1.00        8.0  \n",
       "Repay_April                    -1.00      -1.00      -1.00        8.0  \n",
       "Amount_September             7063.25   22381.75   67091.00   964511.0  \n",
       "Amount_August                7558.25   21201.50   64006.25   983931.0  \n",
       "Amount_July                  8149.25   20088.75   60164.75  1664089.0  \n",
       "Amount_June                  8339.75   19052.00   54506.00   891586.0  \n",
       "Amount_May                   7988.00   18104.75   50190.50   927171.0  \n",
       "Amount_April                 7687.50   17072.50   49198.25   961664.0  \n",
       "Bill_September               1896.75    2100.00    5006.00   873552.0  \n",
       "Bill_August                  1786.00    2009.00    5000.00  1684259.0  \n",
       "Bill_July                    1500.00    1800.00    4505.00   896040.0  \n",
       "Bill_June                    1207.00    1500.00    4013.25   621000.0  \n",
       "Bill_May                     1346.00    1500.00    4031.50   426529.0  \n",
       "Bill_April                   1435.00    1500.00    4000.00   528666.0  \n",
       "default.payment.next.month      0.00       0.00       0.00        1.0  "
      ]
     },
     "execution_count": 18,
     "metadata": {},
     "output_type": "execute_result"
    }
   ],
   "source": [
    "df.describe().T"
   ]
  },
  {
   "cell_type": "code",
   "execution_count": 19,
   "metadata": {},
   "outputs": [],
   "source": [
    "sep=[]\n",
    "aug=[]\n",
    "jul=[]\n",
    "jun=[]\n",
    "may=[]\n",
    "apr=[]\n",
    "for i in range(len(df.columns[18:24])):\n",
    "    col=df.columns[18:24][i]\n",
    "    val=df[col].value_counts().sort_index(ascending=False).index\n",
    "    val_=df[col].value_counts().sort_index(ascending=True).index\n",
    "    num=300000\n",
    "    for x in val:\n",
    "        if i==0 and x>=num:\n",
    "            sep.append(x)\n",
    "            df[col].replace(sep,df[col].mean(),inplace=True)\n",
    "        elif i==1 and x>=num:\n",
    "            aug.append(x)\n",
    "            df[col].replace(aug,df[col].mean(),inplace=True)\n",
    "        elif i==2 and x>=num:\n",
    "            jul.append(x)\n",
    "            df[col].replace(jul,df[col].mean(),inplace=True)\n",
    "        elif i==3 and x>=num:\n",
    "            jun.append(x)\n",
    "            df[col].replace(jun,df[col].mean(),inplace=True)\n",
    "        elif i==4 and x>=num:\n",
    "            may.append(x)\n",
    "            df[col].replace(may,df[col].mean(),inplace=True)\n",
    "        elif i==5 and x>=num:\n",
    "            apr.append(x)\n",
    "            df[col].replace(apr,df[col].mean(),inplace=True)"
   ]
  },
  {
   "cell_type": "code",
   "execution_count": 20,
   "metadata": {},
   "outputs": [],
   "source": [
    "sep_=[]\n",
    "aug_=[]\n",
    "jul_=[]\n",
    "jun_=[]\n",
    "may_=[]\n",
    "apr_=[]\n",
    "for i in range(len(df.columns[18:24])):\n",
    "    col=df.columns[18:24][i]\n",
    "    val=df[col].value_counts().sort_index(ascending=False).index\n",
    "    val_=df[col].value_counts().sort_index(ascending=True).index\n",
    "    no=1500\n",
    "    for y in val_:\n",
    "        if i==0 and y<=no:\n",
    "            sep_.append(y)\n",
    "            df[col].replace(sep_,df[col].mean(),inplace=True)\n",
    "        elif i==1 and y<=no:\n",
    "            aug_.append(y)\n",
    "            df[col].replace(aug_,df[col].mean(),inplace=True)\n",
    "        elif i==2 and y<=no:\n",
    "            jul_.append(y)\n",
    "            df[col].replace(jul_,df[col].mean(),inplace=True)\n",
    "        elif i==3 and y<=no:\n",
    "            jun_.append(y)\n",
    "            df[col].replace(jun_,df[col].mean(),inplace=True)\n",
    "        elif i==4 and y<=no:\n",
    "            may_.append(y)\n",
    "            df[col].replace(may_,df[col].mean(),inplace=True)\n",
    "        elif i==5 and y<=no:\n",
    "            apr_.append(y)\n",
    "            df[col].replace(apr_,df[col].mean(),inplace=True)"
   ]
  },
  {
   "cell_type": "code",
   "execution_count": 21,
   "metadata": {},
   "outputs": [],
   "source": [
    "def Ages(x):\n",
    "    if x in range(20,30):\n",
    "        return \"20th\"\n",
    "    elif x in range(30,40):\n",
    "        return \"30th\"\n",
    "    elif x in range(40,50):\n",
    "        return \"40th\"\n",
    "    elif x in range(50,60):\n",
    "        return \"50th\"\n",
    "    elif x in range(60,70):\n",
    "        return \"60th\"\n",
    "    elif x in range(70,80):\n",
    "        return \"70th\"\n",
    "    else:\n",
    "        return \"greater than 80th\""
   ]
  },
  {
   "cell_type": "code",
   "execution_count": 22,
   "metadata": {},
   "outputs": [],
   "source": [
    "def limit(x):\n",
    "    if x<100000:\n",
    "        return \"less than 100K\"\n",
    "    elif x in range(100000,200000):\n",
    "        return \"100K\"\n",
    "    elif x in range(200000,300000):\n",
    "        return \"200K\"\n",
    "    elif x in range(300000,400000):\n",
    "        return \"300K\"\n",
    "    elif x in range(400000,500000):\n",
    "        return \"400K\"\n",
    "    elif x in range(500000,600000):\n",
    "        return \"500K\"\n",
    "    elif x in range(600000,700000):\n",
    "        return \"600K\"\n",
    "    elif x in range(700000,800000):\n",
    "        return \"700K\"\n",
    "    elif x in range(800000,900000):\n",
    "        return \"800K\"\n",
    "    elif x in range(900000,1000000):\n",
    "        return \"900K\"\n",
    "    else:\n",
    "        return \"greater than 1M\""
   ]
  },
  {
   "cell_type": "code",
   "execution_count": 23,
   "metadata": {},
   "outputs": [],
   "source": [
    "df['AGE']=df['AGE'].apply(lambda x: Ages(x))\n",
    "df['LIMIT_BAL']=df['LIMIT_BAL'].apply(lambda x:limit(x))"
   ]
  },
  {
   "cell_type": "code",
   "execution_count": 24,
   "metadata": {},
   "outputs": [],
   "source": [
    "df['nxt_pay']=df['default.payment.next.month']\n",
    "df.drop('default.payment.next.month',axis=1,inplace=True)"
   ]
  },
  {
   "cell_type": "code",
   "execution_count": 25,
   "metadata": {
    "scrolled": true
   },
   "outputs": [
    {
     "data": {
      "text/html": [
       "<div>\n",
       "<style scoped>\n",
       "    .dataframe tbody tr th:only-of-type {\n",
       "        vertical-align: middle;\n",
       "    }\n",
       "\n",
       "    .dataframe tbody tr th {\n",
       "        vertical-align: top;\n",
       "    }\n",
       "\n",
       "    .dataframe thead th {\n",
       "        text-align: right;\n",
       "    }\n",
       "</style>\n",
       "<table border=\"1\" class=\"dataframe\">\n",
       "  <thead>\n",
       "    <tr style=\"text-align: right;\">\n",
       "      <th></th>\n",
       "      <th>count</th>\n",
       "      <th>mean</th>\n",
       "      <th>std</th>\n",
       "      <th>min</th>\n",
       "      <th>25%</th>\n",
       "      <th>50%</th>\n",
       "      <th>75%</th>\n",
       "      <th>max</th>\n",
       "    </tr>\n",
       "  </thead>\n",
       "  <tbody>\n",
       "    <tr>\n",
       "      <th>ID</th>\n",
       "      <td>30000.0</td>\n",
       "      <td>15000.500000</td>\n",
       "      <td>8660.398374</td>\n",
       "      <td>1.0</td>\n",
       "      <td>7500.75</td>\n",
       "      <td>15000.500000</td>\n",
       "      <td>22500.250000</td>\n",
       "      <td>30000.0</td>\n",
       "    </tr>\n",
       "    <tr>\n",
       "      <th>SEX</th>\n",
       "      <td>30000.0</td>\n",
       "      <td>1.603733</td>\n",
       "      <td>0.489129</td>\n",
       "      <td>1.0</td>\n",
       "      <td>1.00</td>\n",
       "      <td>2.000000</td>\n",
       "      <td>2.000000</td>\n",
       "      <td>2.0</td>\n",
       "    </tr>\n",
       "    <tr>\n",
       "      <th>EDUCATION</th>\n",
       "      <td>30000.0</td>\n",
       "      <td>1.841333</td>\n",
       "      <td>0.743041</td>\n",
       "      <td>1.0</td>\n",
       "      <td>1.00</td>\n",
       "      <td>2.000000</td>\n",
       "      <td>2.000000</td>\n",
       "      <td>4.0</td>\n",
       "    </tr>\n",
       "    <tr>\n",
       "      <th>MARRIAGE</th>\n",
       "      <td>30000.0</td>\n",
       "      <td>1.555467</td>\n",
       "      <td>0.518137</td>\n",
       "      <td>1.0</td>\n",
       "      <td>1.00</td>\n",
       "      <td>2.000000</td>\n",
       "      <td>2.000000</td>\n",
       "      <td>3.0</td>\n",
       "    </tr>\n",
       "    <tr>\n",
       "      <th>Repay_September</th>\n",
       "      <td>30000.0</td>\n",
       "      <td>-0.507933</td>\n",
       "      <td>1.223296</td>\n",
       "      <td>-2.0</td>\n",
       "      <td>-1.00</td>\n",
       "      <td>-1.000000</td>\n",
       "      <td>-1.000000</td>\n",
       "      <td>8.0</td>\n",
       "    </tr>\n",
       "    <tr>\n",
       "      <th>Repay_August</th>\n",
       "      <td>30000.0</td>\n",
       "      <td>-0.658100</td>\n",
       "      <td>1.241930</td>\n",
       "      <td>-2.0</td>\n",
       "      <td>-1.00</td>\n",
       "      <td>-1.000000</td>\n",
       "      <td>-1.000000</td>\n",
       "      <td>8.0</td>\n",
       "    </tr>\n",
       "    <tr>\n",
       "      <th>Repay_July</th>\n",
       "      <td>30000.0</td>\n",
       "      <td>-0.691667</td>\n",
       "      <td>1.227673</td>\n",
       "      <td>-2.0</td>\n",
       "      <td>-1.00</td>\n",
       "      <td>-1.000000</td>\n",
       "      <td>-1.000000</td>\n",
       "      <td>8.0</td>\n",
       "    </tr>\n",
       "    <tr>\n",
       "      <th>Repay_June</th>\n",
       "      <td>30000.0</td>\n",
       "      <td>-0.769167</td>\n",
       "      <td>1.171521</td>\n",
       "      <td>-2.0</td>\n",
       "      <td>-1.00</td>\n",
       "      <td>-1.000000</td>\n",
       "      <td>-1.000000</td>\n",
       "      <td>8.0</td>\n",
       "    </tr>\n",
       "    <tr>\n",
       "      <th>Repay_May</th>\n",
       "      <td>30000.0</td>\n",
       "      <td>-0.831100</td>\n",
       "      <td>1.108669</td>\n",
       "      <td>-2.0</td>\n",
       "      <td>-1.00</td>\n",
       "      <td>-1.000000</td>\n",
       "      <td>-1.000000</td>\n",
       "      <td>8.0</td>\n",
       "    </tr>\n",
       "    <tr>\n",
       "      <th>Repay_April</th>\n",
       "      <td>30000.0</td>\n",
       "      <td>-0.833967</td>\n",
       "      <td>1.120078</td>\n",
       "      <td>-2.0</td>\n",
       "      <td>-1.00</td>\n",
       "      <td>-1.000000</td>\n",
       "      <td>-1.000000</td>\n",
       "      <td>8.0</td>\n",
       "    </tr>\n",
       "    <tr>\n",
       "      <th>Amount_September</th>\n",
       "      <td>30000.0</td>\n",
       "      <td>52721.399300</td>\n",
       "      <td>72801.432623</td>\n",
       "      <td>-165580.0</td>\n",
       "      <td>7063.25</td>\n",
       "      <td>22381.750000</td>\n",
       "      <td>67091.000000</td>\n",
       "      <td>964511.0</td>\n",
       "    </tr>\n",
       "    <tr>\n",
       "      <th>Amount_August</th>\n",
       "      <td>30000.0</td>\n",
       "      <td>50949.981833</td>\n",
       "      <td>70184.932216</td>\n",
       "      <td>-69777.0</td>\n",
       "      <td>7558.25</td>\n",
       "      <td>21201.500000</td>\n",
       "      <td>64006.250000</td>\n",
       "      <td>983931.0</td>\n",
       "    </tr>\n",
       "    <tr>\n",
       "      <th>Amount_July</th>\n",
       "      <td>30000.0</td>\n",
       "      <td>48934.954633</td>\n",
       "      <td>68290.158090</td>\n",
       "      <td>-157264.0</td>\n",
       "      <td>8149.25</td>\n",
       "      <td>20088.750000</td>\n",
       "      <td>60164.750000</td>\n",
       "      <td>1664089.0</td>\n",
       "    </tr>\n",
       "    <tr>\n",
       "      <th>Amount_June</th>\n",
       "      <td>30000.0</td>\n",
       "      <td>45291.986967</td>\n",
       "      <td>63227.269269</td>\n",
       "      <td>-170000.0</td>\n",
       "      <td>8339.75</td>\n",
       "      <td>19052.000000</td>\n",
       "      <td>54506.000000</td>\n",
       "      <td>891586.0</td>\n",
       "    </tr>\n",
       "    <tr>\n",
       "      <th>Amount_May</th>\n",
       "      <td>30000.0</td>\n",
       "      <td>42427.213533</td>\n",
       "      <td>59661.846430</td>\n",
       "      <td>-81334.0</td>\n",
       "      <td>7988.00</td>\n",
       "      <td>18104.750000</td>\n",
       "      <td>50190.500000</td>\n",
       "      <td>927171.0</td>\n",
       "    </tr>\n",
       "    <tr>\n",
       "      <th>Amount_April</th>\n",
       "      <td>30000.0</td>\n",
       "      <td>41159.274400</td>\n",
       "      <td>58332.366338</td>\n",
       "      <td>-339603.0</td>\n",
       "      <td>7687.50</td>\n",
       "      <td>17072.500000</td>\n",
       "      <td>49198.250000</td>\n",
       "      <td>961664.0</td>\n",
       "    </tr>\n",
       "    <tr>\n",
       "      <th>Bill_September</th>\n",
       "      <td>30000.0</td>\n",
       "      <td>6886.719562</td>\n",
       "      <td>13909.517292</td>\n",
       "      <td>1501.0</td>\n",
       "      <td>2100.00</td>\n",
       "      <td>4002.000000</td>\n",
       "      <td>6561.342258</td>\n",
       "      <td>298887.0</td>\n",
       "    </tr>\n",
       "    <tr>\n",
       "      <th>Bill_August</th>\n",
       "      <td>30000.0</td>\n",
       "      <td>7025.631890</td>\n",
       "      <td>14683.216800</td>\n",
       "      <td>1501.0</td>\n",
       "      <td>2009.00</td>\n",
       "      <td>4133.000000</td>\n",
       "      <td>6640.400394</td>\n",
       "      <td>294318.0</td>\n",
       "    </tr>\n",
       "    <tr>\n",
       "      <th>Bill_July</th>\n",
       "      <td>30000.0</td>\n",
       "      <td>6684.394705</td>\n",
       "      <td>13496.165820</td>\n",
       "      <td>1501.0</td>\n",
       "      <td>1933.75</td>\n",
       "      <td>4921.000000</td>\n",
       "      <td>6253.826261</td>\n",
       "      <td>288921.0</td>\n",
       "    </tr>\n",
       "    <tr>\n",
       "      <th>Bill_June</th>\n",
       "      <td>30000.0</td>\n",
       "      <td>7505.132713</td>\n",
       "      <td>13209.930915</td>\n",
       "      <td>1501.0</td>\n",
       "      <td>4164.00</td>\n",
       "      <td>5840.234536</td>\n",
       "      <td>6388.978843</td>\n",
       "      <td>292962.0</td>\n",
       "    </tr>\n",
       "    <tr>\n",
       "      <th>Bill_May</th>\n",
       "      <td>30000.0</td>\n",
       "      <td>7398.467899</td>\n",
       "      <td>12931.610410</td>\n",
       "      <td>1501.0</td>\n",
       "      <td>4086.75</td>\n",
       "      <td>5742.413958</td>\n",
       "      <td>6265.925206</td>\n",
       "      <td>287982.0</td>\n",
       "    </tr>\n",
       "    <tr>\n",
       "      <th>Bill_April</th>\n",
       "      <td>30000.0</td>\n",
       "      <td>8140.393240</td>\n",
       "      <td>15520.201151</td>\n",
       "      <td>1501.0</td>\n",
       "      <td>4200.00</td>\n",
       "      <td>6247.748030</td>\n",
       "      <td>6796.495725</td>\n",
       "      <td>290000.0</td>\n",
       "    </tr>\n",
       "    <tr>\n",
       "      <th>nxt_pay</th>\n",
       "      <td>30000.0</td>\n",
       "      <td>0.221200</td>\n",
       "      <td>0.415062</td>\n",
       "      <td>0.0</td>\n",
       "      <td>0.00</td>\n",
       "      <td>0.000000</td>\n",
       "      <td>0.000000</td>\n",
       "      <td>1.0</td>\n",
       "    </tr>\n",
       "  </tbody>\n",
       "</table>\n",
       "</div>"
      ],
      "text/plain": [
       "                    count          mean           std       min      25%  \\\n",
       "ID                30000.0  15000.500000   8660.398374       1.0  7500.75   \n",
       "SEX               30000.0      1.603733      0.489129       1.0     1.00   \n",
       "EDUCATION         30000.0      1.841333      0.743041       1.0     1.00   \n",
       "MARRIAGE          30000.0      1.555467      0.518137       1.0     1.00   \n",
       "Repay_September   30000.0     -0.507933      1.223296      -2.0    -1.00   \n",
       "Repay_August      30000.0     -0.658100      1.241930      -2.0    -1.00   \n",
       "Repay_July        30000.0     -0.691667      1.227673      -2.0    -1.00   \n",
       "Repay_June        30000.0     -0.769167      1.171521      -2.0    -1.00   \n",
       "Repay_May         30000.0     -0.831100      1.108669      -2.0    -1.00   \n",
       "Repay_April       30000.0     -0.833967      1.120078      -2.0    -1.00   \n",
       "Amount_September  30000.0  52721.399300  72801.432623 -165580.0  7063.25   \n",
       "Amount_August     30000.0  50949.981833  70184.932216  -69777.0  7558.25   \n",
       "Amount_July       30000.0  48934.954633  68290.158090 -157264.0  8149.25   \n",
       "Amount_June       30000.0  45291.986967  63227.269269 -170000.0  8339.75   \n",
       "Amount_May        30000.0  42427.213533  59661.846430  -81334.0  7988.00   \n",
       "Amount_April      30000.0  41159.274400  58332.366338 -339603.0  7687.50   \n",
       "Bill_September    30000.0   6886.719562  13909.517292    1501.0  2100.00   \n",
       "Bill_August       30000.0   7025.631890  14683.216800    1501.0  2009.00   \n",
       "Bill_July         30000.0   6684.394705  13496.165820    1501.0  1933.75   \n",
       "Bill_June         30000.0   7505.132713  13209.930915    1501.0  4164.00   \n",
       "Bill_May          30000.0   7398.467899  12931.610410    1501.0  4086.75   \n",
       "Bill_April        30000.0   8140.393240  15520.201151    1501.0  4200.00   \n",
       "nxt_pay           30000.0      0.221200      0.415062       0.0     0.00   \n",
       "\n",
       "                           50%           75%        max  \n",
       "ID                15000.500000  22500.250000    30000.0  \n",
       "SEX                   2.000000      2.000000        2.0  \n",
       "EDUCATION             2.000000      2.000000        4.0  \n",
       "MARRIAGE              2.000000      2.000000        3.0  \n",
       "Repay_September      -1.000000     -1.000000        8.0  \n",
       "Repay_August         -1.000000     -1.000000        8.0  \n",
       "Repay_July           -1.000000     -1.000000        8.0  \n",
       "Repay_June           -1.000000     -1.000000        8.0  \n",
       "Repay_May            -1.000000     -1.000000        8.0  \n",
       "Repay_April          -1.000000     -1.000000        8.0  \n",
       "Amount_September  22381.750000  67091.000000   964511.0  \n",
       "Amount_August     21201.500000  64006.250000   983931.0  \n",
       "Amount_July       20088.750000  60164.750000  1664089.0  \n",
       "Amount_June       19052.000000  54506.000000   891586.0  \n",
       "Amount_May        18104.750000  50190.500000   927171.0  \n",
       "Amount_April      17072.500000  49198.250000   961664.0  \n",
       "Bill_September     4002.000000   6561.342258   298887.0  \n",
       "Bill_August        4133.000000   6640.400394   294318.0  \n",
       "Bill_July          4921.000000   6253.826261   288921.0  \n",
       "Bill_June          5840.234536   6388.978843   292962.0  \n",
       "Bill_May           5742.413958   6265.925206   287982.0  \n",
       "Bill_April         6247.748030   6796.495725   290000.0  \n",
       "nxt_pay               0.000000      0.000000        1.0  "
      ]
     },
     "execution_count": 25,
     "metadata": {},
     "output_type": "execute_result"
    }
   ],
   "source": [
    "df.describe().T"
   ]
  },
  {
   "cell_type": "markdown",
   "metadata": {},
   "source": [
    "# Visualization"
   ]
  },
  {
   "cell_type": "code",
   "execution_count": 26,
   "metadata": {},
   "outputs": [
    {
     "data": {
      "text/plain": [
       "<AxesSubplot:>"
      ]
     },
     "execution_count": 26,
     "metadata": {},
     "output_type": "execute_result"
    },
    {
     "data": {
      "image/png": "[encoded data removed]",
      "text/plain": [
       "<Figure size 1800x2160 with 2 Axes>"
      ]
     },
     "metadata": {
      "needs_background": "light"
     },
     "output_type": "display_data"
    }
   ],
   "source": [
    "plt.figure(figsize=[25,30])\n",
    "sns.heatmap(df.corr(),annot=True)"
   ]
  },
  {
   "cell_type": "code",
   "execution_count": 27,
   "metadata": {
    "scrolled": true
   },
   "outputs": [
    {
     "data": {
      "text/plain": [
       "<AxesSubplot:xlabel='nxt_pay', ylabel='count'>"
      ]
     },
     "execution_count": 27,
     "metadata": {},
     "output_type": "execute_result"
    },
    {
     "data": {
      "image/png": "[encoded data removed]",
      "text/plain": [
       "<Figure size 432x288 with 1 Axes>"
      ]
     },
     "metadata": {
      "needs_background": "light"
     },
     "output_type": "display_data"
    }
   ],
   "source": [
    "sns.countplot(data=df,x='nxt_pay')"
   ]
  },
  {
   "cell_type": "code",
   "execution_count": 28,
   "metadata": {},
   "outputs": [
    {
     "data": {
      "text/plain": [
       "<AxesSubplot:xlabel='AGE', ylabel='count'>"
      ]
     },
     "execution_count": 28,
     "metadata": {},
     "output_type": "execute_result"
    },
    {
     "data": {
      "image/png": "[encoded data removed]",
      "text/plain": [
       "<Figure size 432x288 with 1 Axes>"
      ]
     },
     "metadata": {
      "needs_background": "light"
     },
     "output_type": "display_data"
    }
   ],
   "source": [
    "sns.countplot(data=df,x=\"AGE\",hue=\"nxt_pay\")"
   ]
  },
  {
   "cell_type": "code",
   "execution_count": 29,
   "metadata": {},
   "outputs": [
    {
     "data": {
      "text/plain": [
       "<AxesSubplot:xlabel='MARRIAGE', ylabel='count'>"
      ]
     },
     "execution_count": 29,
     "metadata": {},
     "output_type": "execute_result"
    },
    {
     "data": {
      "image/png": "[encoded data removed]",
      "text/plain": [
       "<Figure size 432x288 with 1 Axes>"
      ]
     },
     "metadata": {
      "needs_background": "light"
     },
     "output_type": "display_data"
    }
   ],
   "source": [
    "sns.countplot(data=df,x=\"MARRIAGE\",hue=\"nxt_pay\")"
   ]
  },
  {
   "cell_type": "code",
   "execution_count": 30,
   "metadata": {},
   "outputs": [
    {
     "data": {
      "text/plain": [
       "<AxesSubplot:xlabel='EDUCATION', ylabel='count'>"
      ]
     },
     "execution_count": 30,
     "metadata": {},
     "output_type": "execute_result"
    },
    {
     "data": {
      "image/png": "[encoded data removed]",
      "text/plain": [
       "<Figure size 432x288 with 1 Axes>"
      ]
     },
     "metadata": {
      "needs_background": "light"
     },
     "output_type": "display_data"
    }
   ],
   "source": [
    "sns.countplot(data=df,x=\"EDUCATION\",hue=\"nxt_pay\")"
   ]
  },
  {
   "cell_type": "code",
   "execution_count": 31,
   "metadata": {},
   "outputs": [
    {
     "data": {
      "text/plain": [
       "<AxesSubplot:xlabel='SEX', ylabel='count'>"
      ]
     },
     "execution_count": 31,
     "metadata": {},
     "output_type": "execute_result"
    },
    {
     "data": {
      "image/png": "[encoded data removed]",
      "text/plain": [
       "<Figure size 432x288 with 1 Axes>"
      ]
     },
     "metadata": {
      "needs_background": "light"
     },
     "output_type": "display_data"
    }
   ],
   "source": [
    "sns.countplot(data=df,x=\"SEX\",hue=\"nxt_pay\")"
   ]
  },
  {
   "cell_type": "code",
   "execution_count": 32,
   "metadata": {},
   "outputs": [
    {
     "data": {
      "text/plain": [
       "<AxesSubplot:xlabel='LIMIT_BAL', ylabel='count'>"
      ]
     },
     "execution_count": 32,
     "metadata": {},
     "output_type": "execute_result"
    },
    {
     "data": {
      "image/png": "[encoded data removed]",
      "text/plain": [
       "<Figure size 1080x360 with 1 Axes>"
      ]
     },
     "metadata": {
      "needs_background": "light"
     },
     "output_type": "display_data"
    }
   ],
   "source": [
    "plt.figure(figsize=[15,5])\n",
    "sns.countplot(data=df,x=\"LIMIT_BAL\",hue=\"nxt_pay\")"
   ]
  },
  {
   "cell_type": "code",
   "execution_count": 33,
   "metadata": {},
   "outputs": [
    {
     "data": {
      "text/plain": [
       "<seaborn.axisgrid.FacetGrid at 0x2361f665790>"
      ]
     },
     "execution_count": 33,
     "metadata": {},
     "output_type": "execute_result"
    },
    {
     "data": {
      "text/plain": [
       "<Figure size 1440x720 with 0 Axes>"
      ]
     },
     "metadata": {},
     "output_type": "display_data"
    },
    {
     "data": {
      "image/png": "[encoded data removed]",
      "text/plain": [
       "<Figure size 648x432 with 6 Axes>"
      ]
     },
     "metadata": {
      "needs_background": "light"
     },
     "output_type": "display_data"
    }
   ],
   "source": [
    "plt.figure(figsize=[20,10])\n",
    "sns.FacetGrid(df, row='nxt_pay', col='MARRIAGE').map(plt.hist, 'AGE')"
   ]
  },
  {
   "cell_type": "code",
   "execution_count": 34,
   "metadata": {},
   "outputs": [
    {
     "data": {
      "text/plain": [
       "<seaborn.axisgrid.FacetGrid at 0x2361fc86940>"
      ]
     },
     "execution_count": 34,
     "metadata": {},
     "output_type": "execute_result"
    },
    {
     "data": {
      "text/plain": [
       "<Figure size 1440x720 with 0 Axes>"
      ]
     },
     "metadata": {},
     "output_type": "display_data"
    },
    {
     "data": {
      "image/png": "[encoded data removed]",
      "text/plain": [
       "<Figure size 864x432 with 8 Axes>"
      ]
     },
     "metadata": {
      "needs_background": "light"
     },
     "output_type": "display_data"
    }
   ],
   "source": [
    "plt.figure(figsize=[20,10])\n",
    "sns.FacetGrid(df, row='nxt_pay', col='EDUCATION').map(plt.hist, 'AGE')"
   ]
  },
  {
   "cell_type": "code",
   "execution_count": 35,
   "metadata": {},
   "outputs": [
    {
     "data": {
      "text/plain": [
       "<seaborn.axisgrid.FacetGrid at 0x2361ffde7f0>"
      ]
     },
     "execution_count": 35,
     "metadata": {},
     "output_type": "execute_result"
    },
    {
     "data": {
      "text/plain": [
       "<Figure size 1440x720 with 0 Axes>"
      ]
     },
     "metadata": {},
     "output_type": "display_data"
    },
    {
     "data": {
      "image/png": "[encoded data removed]",
      "text/plain": [
       "<Figure size 432x432 with 4 Axes>"
      ]
     },
     "metadata": {
      "needs_background": "light"
     },
     "output_type": "display_data"
    }
   ],
   "source": [
    "plt.figure(figsize=[20,10])\n",
    "sns.FacetGrid(df, row='nxt_pay', col='SEX').map(plt.hist, 'AGE')"
   ]
  },
  {
   "cell_type": "code",
   "execution_count": 36,
   "metadata": {},
   "outputs": [
    {
     "data": {
      "text/plain": [
       "<seaborn.axisgrid.FacetGrid at 0x2361fad97f0>"
      ]
     },
     "execution_count": 36,
     "metadata": {},
     "output_type": "execute_result"
    },
    {
     "data": {
      "text/plain": [
       "<Figure size 1440x1440 with 0 Axes>"
      ]
     },
     "metadata": {},
     "output_type": "display_data"
    },
    {
     "data": {
      "image/png": "[encoded data removed]",
      "text/plain": [
       "<Figure size 432x432 with 4 Axes>"
      ]
     },
     "metadata": {
      "needs_background": "light"
     },
     "output_type": "display_data"
    }
   ],
   "source": [
    "plt.figure(figsize=[20,20])\n",
    "sns.FacetGrid(df, row='nxt_pay', col='SEX').map(plt.hist, 'EDUCATION')"
   ]
  },
  {
   "cell_type": "code",
   "execution_count": 37,
   "metadata": {},
   "outputs": [
    {
     "data": {
      "text/plain": [
       "<seaborn.axisgrid.FacetGrid at 0x23622082670>"
      ]
     },
     "execution_count": 37,
     "metadata": {},
     "output_type": "execute_result"
    },
    {
     "data": {
      "image/png": "[encoded data removed]",
      "text/plain": [
       "<Figure size 864x432 with 8 Axes>"
      ]
     },
     "metadata": {
      "needs_background": "light"
     },
     "output_type": "display_data"
    },
    {
     "data": {
      "image/png": "[encoded data removed]",
      "text/plain": [
       "<Figure size 864x432 with 8 Axes>"
      ]
     },
     "metadata": {
      "needs_background": "light"
     },
     "output_type": "display_data"
    },
    {
     "data": {
      "image/png": "[encoded data removed]",
      "text/plain": [
       "<Figure size 864x432 with 8 Axes>"
      ]
     },
     "metadata": {
      "needs_background": "light"
     },
     "output_type": "display_data"
    }
   ],
   "source": [
    "sns.FacetGrid(df, row='nxt_pay', col='EDUCATION').map(plt.hist, 'Repay_September')\n",
    "sns.FacetGrid(df, row='nxt_pay', col='EDUCATION').map(plt.hist, 'Repay_August')\n",
    "sns.FacetGrid(df, row='nxt_pay', col='EDUCATION').map(plt.hist, 'Repay_July')"
   ]
  },
  {
   "cell_type": "code",
   "execution_count": 38,
   "metadata": {},
   "outputs": [
    {
     "data": {
      "text/plain": [
       "<seaborn.axisgrid.FacetGrid at 0x23623199d30>"
      ]
     },
     "execution_count": 38,
     "metadata": {},
     "output_type": "execute_result"
    },
    {
     "data": {
      "image/png": "[encoded data removed]",
      "text/plain": [
       "<Figure size 864x432 with 8 Axes>"
      ]
     },
     "metadata": {
      "needs_background": "light"
     },
     "output_type": "display_data"
    },
    {
     "data": {
      "image/png": "[encoded data removed]",
      "text/plain": [
       "<Figure size 864x432 with 8 Axes>"
      ]
     },
     "metadata": {
      "needs_background": "light"
     },
     "output_type": "display_data"
    },
    {
     "data": {
      "image/png": "[encoded data removed]",
      "text/plain": [
       "<Figure size 864x432 with 8 Axes>"
      ]
     },
     "metadata": {
      "needs_background": "light"
     },
     "output_type": "display_data"
    }
   ],
   "source": [
    "sns.FacetGrid(df, row='nxt_pay', col='EDUCATION').map(plt.hist, 'Repay_June')\n",
    "sns.FacetGrid(df, row='nxt_pay', col='EDUCATION').map(plt.hist, 'Repay_May')\n",
    "sns.FacetGrid(df, row='nxt_pay', col='EDUCATION').map(plt.hist, 'Repay_April')"
   ]
  },
  {
   "cell_type": "markdown",
   "metadata": {},
   "source": [
    "# Modle"
   ]
  },
  {
   "cell_type": "code",
   "execution_count": 39,
   "metadata": {},
   "outputs": [],
   "source": [
    "df=pd.get_dummies(data=df,drop_first=True)"
   ]
  },
  {
   "cell_type": "code",
   "execution_count": 40,
   "metadata": {},
   "outputs": [],
   "source": [
    "x=df.drop('nxt_pay',axis=1)\n",
    "y=df['nxt_pay']"
   ]
  },
  {
   "cell_type": "code",
   "execution_count": 41,
   "metadata": {},
   "outputs": [],
   "source": [
    "from sklearn.model_selection import train_test_split\n",
    "x_train,x_test,y_train,y_test=train_test_split(x,y,test_size=0.2,random_state=1,stratify=y)"
   ]
  },
  {
   "cell_type": "code",
   "execution_count": 42,
   "metadata": {},
   "outputs": [],
   "source": [
    "from imblearn.over_sampling import SMOTE\n",
    "sample=SMOTE()\n",
    "x_train_over,y_train_over=sample.fit_resample(x_train,y_train)"
   ]
  },
  {
   "cell_type": "code",
   "execution_count": 43,
   "metadata": {},
   "outputs": [],
   "source": [
    "from sklearn.preprocessing import StandardScaler\n",
    "scaler =StandardScaler()\n",
    "x_train_scale=scaler.fit_transform(x_train_over)\n",
    "x_test_scale=scaler.transform(x_test)"
   ]
  },
  {
   "cell_type": "code",
   "execution_count": 44,
   "metadata": {},
   "outputs": [
    {
     "data": {
      "text/plain": [
       "LogisticRegression()"
      ]
     },
     "execution_count": 44,
     "metadata": {},
     "output_type": "execute_result"
    }
   ],
   "source": [
    "from sklearn.linear_model import LogisticRegression\n",
    "lr=LogisticRegression()\n",
    "lr.fit(x_train_scale,y_train_over)"
   ]
  },
  {
   "cell_type": "code",
   "execution_count": 45,
   "metadata": {},
   "outputs": [],
   "source": [
    "y_pred=lr.predict(x_test_scale)"
   ]
  },
  {
   "cell_type": "code",
   "execution_count": 46,
   "metadata": {},
   "outputs": [
    {
     "data": {
      "text/plain": [
       "0.7478333333333333"
      ]
     },
     "execution_count": 46,
     "metadata": {},
     "output_type": "execute_result"
    }
   ],
   "source": [
    "lr.score(x_test_scale,y_test)"
   ]
  },
  {
   "cell_type": "code",
   "execution_count": 47,
   "metadata": {},
   "outputs": [
    {
     "name": "stdout",
     "output_type": "stream",
     "text": [
      "              precision    recall  f1-score   support\n",
      "\n",
      "           0       0.85      0.82      0.83      4673\n",
      "           1       0.44      0.50      0.47      1327\n",
      "\n",
      "    accuracy                           0.75      6000\n",
      "   macro avg       0.64      0.66      0.65      6000\n",
      "weighted avg       0.76      0.75      0.75      6000\n",
      "\n"
     ]
    }
   ],
   "source": [
    "from sklearn.metrics import classification_report\n",
    "print(classification_report(y_test,y_pred))"
   ]
  },
  {
   "cell_type": "code",
   "execution_count": 48,
   "metadata": {},
   "outputs": [
    {
     "data": {
      "text/plain": [
       "AdaBoostClassifier()"
      ]
     },
     "execution_count": 48,
     "metadata": {},
     "output_type": "execute_result"
    }
   ],
   "source": [
    "from sklearn.ensemble import AdaBoostClassifier\n",
    "adb=AdaBoostClassifier()\n",
    "adb.fit(x_train_scale,y_train_over)"
   ]
  },
  {
   "cell_type": "code",
   "execution_count": 49,
   "metadata": {},
   "outputs": [],
   "source": [
    "y_pred_adb=adb.predict(x_test_scale)"
   ]
  },
  {
   "cell_type": "code",
   "execution_count": 50,
   "metadata": {},
   "outputs": [
    {
     "name": "stdout",
     "output_type": "stream",
     "text": [
      "              precision    recall  f1-score   support\n",
      "\n",
      "           0       0.85      0.87      0.86      4673\n",
      "           1       0.49      0.45      0.47      1327\n",
      "\n",
      "    accuracy                           0.78      6000\n",
      "   macro avg       0.67      0.66      0.67      6000\n",
      "weighted avg       0.77      0.78      0.77      6000\n",
      "\n"
     ]
    }
   ],
   "source": [
    "print(classification_report(y_test,y_pred_adb))"
   ]
  },
  {
   "cell_type": "code",
   "execution_count": 51,
   "metadata": {},
   "outputs": [
    {
     "data": {
      "text/plain": [
       "KNeighborsClassifier()"
      ]
     },
     "execution_count": 51,
     "metadata": {},
     "output_type": "execute_result"
    }
   ],
   "source": [
    "from sklearn.neighbors import KNeighborsClassifier\n",
    "kn=KNeighborsClassifier()\n",
    "kn.fit(x_train_scale,y_train_over)"
   ]
  },
  {
   "cell_type": "code",
   "execution_count": 52,
   "metadata": {},
   "outputs": [],
   "source": [
    "y_pred_kn=kn.predict(x_test_scale)"
   ]
  },
  {
   "cell_type": "code",
   "execution_count": 53,
   "metadata": {},
   "outputs": [
    {
     "name": "stdout",
     "output_type": "stream",
     "text": [
      "              precision    recall  f1-score   support\n",
      "\n",
      "           0       0.84      0.83      0.84      4673\n",
      "           1       0.43      0.45      0.44      1327\n",
      "\n",
      "    accuracy                           0.75      6000\n",
      "   macro avg       0.64      0.64      0.64      6000\n",
      "weighted avg       0.75      0.75      0.75      6000\n",
      "\n"
     ]
    }
   ],
   "source": [
    "print(classification_report(y_test,y_pred_kn))"
   ]
  },
  {
   "cell_type": "code",
   "execution_count": 54,
   "metadata": {},
   "outputs": [
    {
     "data": {
      "text/plain": [
       "RandomForestClassifier()"
      ]
     },
     "execution_count": 54,
     "metadata": {},
     "output_type": "execute_result"
    }
   ],
   "source": [
    "from sklearn.ensemble import RandomForestClassifier\n",
    "rf=RandomForestClassifier()\n",
    "rf.fit(x_train_scale,y_train_over)"
   ]
  },
  {
   "cell_type": "code",
   "execution_count": 55,
   "metadata": {},
   "outputs": [],
   "source": [
    "y_pred_rf=rf.predict(x_test_scale)"
   ]
  },
  {
   "cell_type": "code",
   "execution_count": 56,
   "metadata": {},
   "outputs": [
    {
     "name": "stdout",
     "output_type": "stream",
     "text": [
      "              precision    recall  f1-score   support\n",
      "\n",
      "           0       0.85      0.90      0.88      4673\n",
      "           1       0.57      0.44      0.50      1327\n",
      "\n",
      "    accuracy                           0.80      6000\n",
      "   macro avg       0.71      0.67      0.69      6000\n",
      "weighted avg       0.79      0.80      0.79      6000\n",
      "\n"
     ]
    }
   ],
   "source": [
    "print(classification_report(y_test,y_pred_rf))"
   ]
  },
  {
   "cell_type": "code",
   "execution_count": 57,
   "metadata": {},
   "outputs": [
    {
     "data": {
      "text/plain": [
       "GaussianNB()"
      ]
     },
     "execution_count": 57,
     "metadata": {},
     "output_type": "execute_result"
    }
   ],
   "source": [
    "from sklearn.naive_bayes import GaussianNB\n",
    "nb=GaussianNB()\n",
    "nb.fit(x_train_scale,y_train_over)"
   ]
  },
  {
   "cell_type": "code",
   "execution_count": 58,
   "metadata": {},
   "outputs": [],
   "source": [
    "y_pred_nb=nb.predict(x_test_scale)"
   ]
  },
  {
   "cell_type": "code",
   "execution_count": 59,
   "metadata": {},
   "outputs": [
    {
     "name": "stdout",
     "output_type": "stream",
     "text": [
      "              precision    recall  f1-score   support\n",
      "\n",
      "           0       0.88      0.13      0.23      4673\n",
      "           1       0.23      0.93      0.37      1327\n",
      "\n",
      "    accuracy                           0.31      6000\n",
      "   macro avg       0.55      0.53      0.30      6000\n",
      "weighted avg       0.73      0.31      0.26      6000\n",
      "\n"
     ]
    }
   ],
   "source": [
    "print(classification_report(y_test,y_pred_nb))"
   ]
  },
  {
   "cell_type": "code",
   "execution_count": 60,
   "metadata": {},
   "outputs": [
    {
     "data": {
      "text/plain": [
       "SVC()"
      ]
     },
     "execution_count": 60,
     "metadata": {},
     "output_type": "execute_result"
    }
   ],
   "source": [
    "from sklearn.svm import SVC\n",
    "sv=SVC()\n",
    "sv.fit(x_train_scale,y_train_over)"
   ]
  },
  {
   "cell_type": "code",
   "execution_count": 61,
   "metadata": {},
   "outputs": [],
   "source": [
    "y_pred_sv=sv.predict(x_test_scale)"
   ]
  },
  {
   "cell_type": "code",
   "execution_count": 62,
   "metadata": {
    "scrolled": true
   },
   "outputs": [
    {
     "name": "stdout",
     "output_type": "stream",
     "text": [
      "              precision    recall  f1-score   support\n",
      "\n",
      "           0       0.85      0.87      0.86      4673\n",
      "           1       0.50      0.46      0.48      1327\n",
      "\n",
      "    accuracy                           0.78      6000\n",
      "   macro avg       0.67      0.67      0.67      6000\n",
      "weighted avg       0.77      0.78      0.77      6000\n",
      "\n"
     ]
    }
   ],
   "source": [
    "print(classification_report(y_test,y_pred_sv))"
   ]
  },
  {
   "cell_type": "code",
   "execution_count": 63,
   "metadata": {
    "scrolled": true
   },
   "outputs": [],
   "source": [
    "lr=lr.score(x_test_scale,y_test)*100\n",
    "ada=adb.score(x_test_scale,y_test)*100\n",
    "kne=kn.score(x_test_scale,y_test)*100\n",
    "rnf=rf.score(x_test_scale,y_test)*100\n",
    "nbs=nb.score(x_test_scale,y_test)*100\n",
    "svc=sv.score(x_test_scale,y_test)*100"
   ]
  },
  {
   "cell_type": "code",
   "execution_count": 64,
   "metadata": {},
   "outputs": [
    {
     "data": {
      "text/plain": [
       "{'Logistic Regression': 74.78333333333333,\n",
       " 'KNN': 74.63333333333333,\n",
       " 'AdaBoost': 77.64999999999999,\n",
       " 'Random Forest': 80.16666666666666,\n",
       " 'Naive Bayes': 31.016666666666666,\n",
       " 'SVM': 77.76666666666667}"
      ]
     },
     "execution_count": 64,
     "metadata": {},
     "output_type": "execute_result"
    }
   ],
   "source": [
    "scores={\"Logistic Regression\":lr, \"KNN\":kne, \"AdaBoost\":ada, \"Random Forest\":rnf, \"Naive Bayes\":nbs,\"SVM\":svc}\n",
    "scores"
   ]
  },
  {
   "cell_type": "code",
   "execution_count": 65,
   "metadata": {},
   "outputs": [
    {
     "data": {
      "image/png": "[encoded data removed]",
      "text/plain": [
       "<Figure size 648x432 with 1 Axes>"
      ]
     },
     "metadata": {
      "needs_background": "light"
     },
     "output_type": "display_data"
    }
   ],
   "source": [
    "pd.DataFrame(data=scores,index=['ACC']).transpose().plot(kind='bar',figsize=(9,6))\n",
    "plt.xlabel(\"Algorithm\",fontsize=15)\n",
    "plt.ylabel(\"Accuracy\",fontsize=15)\n",
    "plt.show()"
   ]
  },
  {
   "cell_type": "markdown",
   "metadata": {},
   "source": [
    "#  Bassed on the above the best model is Random forest"
   ]
  }
 ],
 "metadata": {
  "kernelspec": {
   "display_name": "Python 3",
   "language": "python",
   "name": "python3"
  },
  "language_info": {
   "codemirror_mode": {
    "name": "ipython",
    "version": 3
   },
   "file_extension": ".py",
   "mimetype": "text/x-python",
   "name": "python",
   "nbconvert_exporter": "python",
   "pygments_lexer": "ipython3",
   "version": "3.8.5"
  }
 },
 "nbformat": 4,
 "nbformat_minor": 4
}
